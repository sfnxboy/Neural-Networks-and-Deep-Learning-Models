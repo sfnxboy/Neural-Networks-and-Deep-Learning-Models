{
 "cells": [
  {
   "cell_type": "code",
   "execution_count": 1,
   "metadata": {},
   "outputs": [],
   "source": [
    "# Import our dependencies\n",
    "import pandas as pd\n",
    "import matplotlib as plt\n",
    "from sklearn.datasets import make_blobs\n",
    "import sklearn as skl\n",
    "import tensorflow as tf"
   ]
  },
  {
   "cell_type": "markdown",
   "metadata": {},
   "source": [
    "We create a dummy data using Scikit-learn's `make_blob` method. For our purposes we will create 1,000 samples with two features (aka our x and y-axis values) that are linearly seperable into two groups."
   ]
  },
  {
   "cell_type": "code",
   "execution_count": 2,
   "metadata": {},
   "outputs": [
    {
     "data": {
      "text/plain": [
       "<AxesSubplot:xlabel='Feature 1', ylabel='Feature 2'>"
      ]
     },
     "execution_count": 2,
     "metadata": {},
     "output_type": "execute_result"
    },
    {
     "data": {
      "image/png": "[encoded data removed]",
      "text/plain": [
       "<Figure size 432x288 with 2 Axes>"
      ]
     },
     "metadata": {
      "needs_background": "light"
     },
     "output_type": "display_data"
    }
   ],
   "source": [
    "# Generate dummy dataset\n",
    "X, y = make_blobs(n_samples=1000, centers=2, n_features=2, random_state=78)\n",
    "\n",
    "# Creating a DataFrame with the dummy data\n",
    "df = pd.DataFrame(X, columns=[\"Feature 1\", \"Feature 2\"])\n",
    "df[\"Target\"] = y\n",
    "\n",
    "# Plotting the dummy data\n",
    "df.plot.scatter(x=\"Feature 1\", y=\"Feature 2\", c=\"Target\", colormap=\"winter\")"
   ]
  },
  {
   "cell_type": "code",
   "execution_count": 3,
   "metadata": {},
   "outputs": [],
   "source": [
    "# Use sklearn to split dataset\n",
    "from sklearn.model_selection import train_test_split\n",
    "X_train, X_test, y_train, y_test = train_test_split(X, y, random_state=78)"
   ]
  },
  {
   "cell_type": "markdown",
   "metadata": {},
   "source": [
    "Now that we have our training data, we need to prepare the dataset for our neural network model. As with any machine learning algorithm, it is crucial to normalize or standardize our numerical variables to ensure that our neural network does not focus on outliers and can apply proper weights to each input. In most cases, the more that input variables are normalized to the same scale, the more stable the neural network model is, and the better the neural network model will generalize. "
   ]
  },
  {
   "cell_type": "code",
   "execution_count": 4,
   "metadata": {},
   "outputs": [],
   "source": [
    "# Create scaler instance\n",
    "X_scaler = skl.preprocessing.StandardScaler()\n",
    "\n",
    "# Fit the scaler\n",
    "X_scaler.fit(X_train)\n",
    "\n",
    "# Scale the data\n",
    "X_train_scaled = X_scaler.transform(X_train)\n",
    "X_test_scaled = X_scaler.transform(X_test)"
   ]
  },
  {
   "cell_type": "markdown",
   "metadata": {},
   "source": [
    "Finally, we have our data ready for our first neural network model! To create the neural network in our notebook, first we must create our Sequential model. To do this, we must add the following code to the notebook:"
   ]
  },
  {
   "cell_type": "code",
   "execution_count": 5,
   "metadata": {},
   "outputs": [],
   "source": [
    "# Create the Keras Sequential model\n",
    "nn_model = tf.keras.models.Sequential()"
   ]
  },
  {
   "cell_type": "markdown",
   "metadata": {},
   "source": [
    "The Keras module does not have specific classes for input, hidden, and output layers. All layers are built using the Dense class, and the input and first hidden layer are always built in the same instance. we can add layers to our Sequential model using Keras' Dense class. For our first layer, we need to define a few parameters:\n",
    "\n",
    "- The input_dimparameter indicates how many inputs will be in the model (in this case two).\n",
    "- The units parameter indicates how many neurons we want in the hidden layer (in this case one).\n",
    "- The activation parameter indicates which activation function to use. We'll use the ReLU activation function to allow our hidden layer to identify and train on nonlinear relationships in the dataset.\n",
    "\n",
    "Putting it all together, our first Dense layer should have the following Python code:"
   ]
  },
  {
   "cell_type": "code",
   "execution_count": 6,
   "metadata": {},
   "outputs": [],
   "source": [
    "# Add our first Dense layer, including the input layer\n",
    "nn_model.add(tf.keras.layers.Dense(units=1, activation=\"relu\", input_dim=2))"
   ]
  },
  {
   "cell_type": "markdown",
   "metadata": {},
   "source": [
    "Defining an activation function as part of the first layer is suggested but not required. By default, a Dense layer will look for linear relationships. Now that we have our input and hidden layers built, we need to add an output layer. Once again, we'll use the Dense class to tell our Sequential model what to do with the data. This time, we only need to supply the number of output neurons. For a classification model, we only want a yes or no binary decision; therefore, we only need one output neuron. In our previous layer, we used a ReLU activation function to enable nonlinear relationships; however, for our classification output, we want to use a sigmoid activation function to produce a probability output."
   ]
  },
  {
   "cell_type": "code",
   "execution_count": 7,
   "metadata": {},
   "outputs": [],
   "source": [
    "# Add the output layer that uses a probability activation function\n",
    "nn_model.add(tf.keras.layers.Dense(units=1, activation=\"sigmoid\"))"
   ]
  },
  {
   "cell_type": "code",
   "execution_count": 8,
   "metadata": {},
   "outputs": [
    {
     "name": "stdout",
     "output_type": "stream",
     "text": [
      "Model: \"sequential\"\n",
      "_________________________________________________________________\n",
      "Layer (type)                 Output Shape              Param #   \n",
      "=================================================================\n",
      "dense (Dense)                (None, 1)                 3         \n",
      "_________________________________________________________________\n",
      "dense_1 (Dense)              (None, 1)                 2         \n",
      "=================================================================\n",
      "Total params: 5\n",
      "Trainable params: 5\n",
      "Non-trainable params: 0\n",
      "_________________________________________________________________\n"
     ]
    }
   ],
   "source": [
    "# Check the structure of the Sequential model\n",
    "nn_model.summary()"
   ]
  },
  {
   "cell_type": "code",
   "execution_count": 9,
   "metadata": {},
   "outputs": [],
   "source": [
    "# Compile the Sequential model together and customize metrics\n",
    "nn_model.compile(loss=\"binary_crossentropy\", optimizer=\"adam\", metrics=[\"accuracy\"])"
   ]
  },
  {
   "cell_type": "markdown",
   "metadata": {},
   "source": [
    "Depending on the function of the neural network, we'll have to compile the neural network using a specific optimization function and loss metric. The optimization function shapes and molds a neural network model while it is being trained to ensure that it performs to the best of its ability. The loss metric is used by machine learning algorithms to score the performance of the model through each iteration and epoch by evaluating the inaccuracy of a single input. To enhance the performance of our classification neural network, we'll use the adam optimizer, which uses a gradient descent approach to ensure that the algorithm will not get stuck on weaker classifying variables and features. As for the loss function, we'll use binary_crossentropy, which is specifically designed to evaluate a binary classification model.\n",
    "\n",
    "In addition to the optimization function and loss metric, we'll also add a more reader-friendly evaluation metric, which measures the quality of the machine learning model. There are two main types of evaluation metrics—the model predictive accuracy and model mean squared error (MSE). We use accuracy for classification models and msefor regression models. For model predictive accuracy, the higher the number the better, whereas for regression models, MSE should reduce to zero."
   ]
  },
  {
   "cell_type": "code",
   "execution_count": 10,
   "metadata": {
    "scrolled": true
   },
   "outputs": [
    {
     "name": "stdout",
     "output_type": "stream",
     "text": [
      "Epoch 1/100\n",
      "24/24 [==============================] - 0s 459us/step - loss: 0.6406 - accuracy: 0.8920\n",
      "Epoch 2/100\n",
      "24/24 [==============================] - 0s 417us/step - loss: 0.6321 - accuracy: 0.8973\n",
      "Epoch 3/100\n",
      "24/24 [==============================] - 0s 417us/step - loss: 0.6230 - accuracy: 0.9080\n",
      "Epoch 4/100\n",
      "24/24 [==============================] - 0s 417us/step - loss: 0.6132 - accuracy: 0.9147\n",
      "Epoch 5/100\n",
      "24/24 [==============================] - 0s 417us/step - loss: 0.6027 - accuracy: 0.9253\n",
      "Epoch 6/100\n",
      "24/24 [==============================] - 0s 417us/step - loss: 0.5916 - accuracy: 0.9360\n",
      "Epoch 7/100\n",
      "24/24 [==============================] - 0s 375us/step - loss: 0.5801 - accuracy: 0.9400\n",
      "Epoch 8/100\n",
      "24/24 [==============================] - 0s 417us/step - loss: 0.5681 - accuracy: 0.9440\n",
      "Epoch 9/100\n",
      "24/24 [==============================] - 0s 417us/step - loss: 0.5558 - accuracy: 0.9467\n",
      "Epoch 10/100\n",
      "24/24 [==============================] - 0s 375us/step - loss: 0.5431 - accuracy: 0.9493\n",
      "Epoch 11/100\n",
      "24/24 [==============================] - 0s 417us/step - loss: 0.5303 - accuracy: 0.9507\n",
      "Epoch 12/100\n",
      "24/24 [==============================] - 0s 417us/step - loss: 0.5173 - accuracy: 0.9533\n",
      "Epoch 13/100\n",
      "24/24 [==============================] - 0s 375us/step - loss: 0.5044 - accuracy: 0.9560\n",
      "Epoch 14/100\n",
      "24/24 [==============================] - 0s 417us/step - loss: 0.4915 - accuracy: 0.9587\n",
      "Epoch 15/100\n",
      "24/24 [==============================] - 0s 375us/step - loss: 0.4786 - accuracy: 0.9627\n",
      "Epoch 16/100\n",
      "24/24 [==============================] - 0s 417us/step - loss: 0.4660 - accuracy: 0.9640\n",
      "Epoch 17/100\n",
      "24/24 [==============================] - 0s 417us/step - loss: 0.4535 - accuracy: 0.9667\n",
      "Epoch 18/100\n",
      "24/24 [==============================] - 0s 375us/step - loss: 0.4414 - accuracy: 0.9680\n",
      "Epoch 19/100\n",
      "24/24 [==============================] - 0s 459us/step - loss: 0.4295 - accuracy: 0.9707\n",
      "Epoch 20/100\n",
      "24/24 [==============================] - 0s 459us/step - loss: 0.4179 - accuracy: 0.9707\n",
      "Epoch 21/100\n",
      "24/24 [==============================] - 0s 459us/step - loss: 0.4066 - accuracy: 0.9733\n",
      "Epoch 22/100\n",
      "24/24 [==============================] - 0s 417us/step - loss: 0.3957 - accuracy: 0.9747\n",
      "Epoch 23/100\n",
      "24/24 [==============================] - 0s 417us/step - loss: 0.3851 - accuracy: 0.9773\n",
      "Epoch 24/100\n",
      "24/24 [==============================] - 0s 417us/step - loss: 0.3749 - accuracy: 0.9800\n",
      "Epoch 25/100\n",
      "24/24 [==============================] - 0s 417us/step - loss: 0.3649 - accuracy: 0.9800\n",
      "Epoch 26/100\n",
      "24/24 [==============================] - 0s 417us/step - loss: 0.3553 - accuracy: 0.9813\n",
      "Epoch 27/100\n",
      "24/24 [==============================] - 0s 417us/step - loss: 0.3459 - accuracy: 0.9813\n",
      "Epoch 28/100\n",
      "24/24 [==============================] - 0s 417us/step - loss: 0.3369 - accuracy: 0.9813\n",
      "Epoch 29/100\n",
      "24/24 [==============================] - 0s 417us/step - loss: 0.3281 - accuracy: 0.9827\n",
      "Epoch 30/100\n",
      "24/24 [==============================] - 0s 417us/step - loss: 0.3197 - accuracy: 0.9840\n",
      "Epoch 31/100\n",
      "24/24 [==============================] - 0s 417us/step - loss: 0.3115 - accuracy: 0.9840\n",
      "Epoch 32/100\n",
      "24/24 [==============================] - 0s 375us/step - loss: 0.3035 - accuracy: 0.9853\n",
      "Epoch 33/100\n",
      "24/24 [==============================] - 0s 417us/step - loss: 0.2958 - accuracy: 0.9853\n",
      "Epoch 34/100\n",
      "24/24 [==============================] - 0s 417us/step - loss: 0.2884 - accuracy: 0.9853\n",
      "Epoch 35/100\n",
      "24/24 [==============================] - 0s 500us/step - loss: 0.2811 - accuracy: 0.9853\n",
      "Epoch 36/100\n",
      "24/24 [==============================] - 0s 584us/step - loss: 0.2742 - accuracy: 0.9853\n",
      "Epoch 37/100\n",
      "24/24 [==============================] - 0s 417us/step - loss: 0.2675 - accuracy: 0.9867\n",
      "Epoch 38/100\n",
      "24/24 [==============================] - 0s 459us/step - loss: 0.2609 - accuracy: 0.9867\n",
      "Epoch 39/100\n",
      "24/24 [==============================] - 0s 375us/step - loss: 0.2546 - accuracy: 0.9867\n",
      "Epoch 40/100\n",
      "24/24 [==============================] - 0s 417us/step - loss: 0.2485 - accuracy: 0.9880\n",
      "Epoch 41/100\n",
      "24/24 [==============================] - 0s 417us/step - loss: 0.2426 - accuracy: 0.9880\n",
      "Epoch 42/100\n",
      "24/24 [==============================] - 0s 417us/step - loss: 0.2369 - accuracy: 0.9880\n",
      "Epoch 43/100\n",
      "24/24 [==============================] - 0s 417us/step - loss: 0.2314 - accuracy: 0.9880\n",
      "Epoch 44/100\n",
      "24/24 [==============================] - 0s 417us/step - loss: 0.2261 - accuracy: 0.9880\n",
      "Epoch 45/100\n",
      "24/24 [==============================] - 0s 420us/step - loss: 0.2209 - accuracy: 0.9880\n",
      "Epoch 46/100\n",
      "24/24 [==============================] - 0s 375us/step - loss: 0.2158 - accuracy: 0.9907\n",
      "Epoch 47/100\n",
      "24/24 [==============================] - 0s 375us/step - loss: 0.2110 - accuracy: 0.9907\n",
      "Epoch 48/100\n",
      "24/24 [==============================] - 0s 375us/step - loss: 0.2062 - accuracy: 0.9907\n",
      "Epoch 49/100\n",
      "24/24 [==============================] - 0s 417us/step - loss: 0.2016 - accuracy: 0.9920\n",
      "Epoch 50/100\n",
      "24/24 [==============================] - 0s 375us/step - loss: 0.1972 - accuracy: 0.9920\n",
      "Epoch 51/100\n",
      "24/24 [==============================] - 0s 375us/step - loss: 0.1929 - accuracy: 0.9920\n",
      "Epoch 52/100\n",
      "24/24 [==============================] - 0s 417us/step - loss: 0.1887 - accuracy: 0.9933\n",
      "Epoch 53/100\n",
      "24/24 [==============================] - 0s 417us/step - loss: 0.1846 - accuracy: 0.9933\n",
      "Epoch 54/100\n",
      "24/24 [==============================] - 0s 375us/step - loss: 0.1806 - accuracy: 0.9947\n",
      "Epoch 55/100\n",
      "24/24 [==============================] - 0s 375us/step - loss: 0.1768 - accuracy: 0.9947\n",
      "Epoch 56/100\n",
      "24/24 [==============================] - 0s 375us/step - loss: 0.1730 - accuracy: 0.9947\n",
      "Epoch 57/100\n",
      "24/24 [==============================] - 0s 375us/step - loss: 0.1694 - accuracy: 0.9960\n",
      "Epoch 58/100\n",
      "24/24 [==============================] - 0s 375us/step - loss: 0.1659 - accuracy: 0.9960\n",
      "Epoch 59/100\n",
      "24/24 [==============================] - 0s 375us/step - loss: 0.1624 - accuracy: 0.9960\n",
      "Epoch 60/100\n",
      "24/24 [==============================] - 0s 375us/step - loss: 0.1591 - accuracy: 0.9973\n",
      "Epoch 61/100\n",
      "24/24 [==============================] - 0s 375us/step - loss: 0.1558 - accuracy: 0.9973\n",
      "Epoch 62/100\n",
      "24/24 [==============================] - 0s 375us/step - loss: 0.1526 - accuracy: 0.9973\n",
      "Epoch 63/100\n",
      "24/24 [==============================] - 0s 375us/step - loss: 0.1496 - accuracy: 0.9973\n",
      "Epoch 64/100\n",
      "24/24 [==============================] - 0s 375us/step - loss: 0.1466 - accuracy: 0.9973\n",
      "Epoch 65/100\n",
      "24/24 [==============================] - 0s 375us/step - loss: 0.1436 - accuracy: 0.9973\n",
      "Epoch 66/100\n",
      "24/24 [==============================] - 0s 375us/step - loss: 0.1408 - accuracy: 0.9987\n",
      "Epoch 67/100\n",
      "24/24 [==============================] - 0s 375us/step - loss: 0.1380 - accuracy: 0.9987\n",
      "Epoch 68/100\n",
      "24/24 [==============================] - 0s 417us/step - loss: 0.1353 - accuracy: 0.9987\n",
      "Epoch 69/100\n",
      "24/24 [==============================] - 0s 417us/step - loss: 0.1327 - accuracy: 0.9987\n",
      "Epoch 70/100\n",
      "24/24 [==============================] - 0s 417us/step - loss: 0.1301 - accuracy: 1.0000\n",
      "Epoch 71/100\n",
      "24/24 [==============================] - 0s 375us/step - loss: 0.1277 - accuracy: 1.0000\n",
      "Epoch 72/100\n",
      "24/24 [==============================] - 0s 417us/step - loss: 0.1252 - accuracy: 1.0000\n",
      "Epoch 73/100\n",
      "24/24 [==============================] - 0s 375us/step - loss: 0.1229 - accuracy: 1.0000\n",
      "Epoch 74/100\n",
      "24/24 [==============================] - 0s 375us/step - loss: 0.1205 - accuracy: 1.0000\n",
      "Epoch 75/100\n",
      "24/24 [==============================] - 0s 375us/step - loss: 0.1183 - accuracy: 1.0000\n",
      "Epoch 76/100\n",
      "24/24 [==============================] - 0s 417us/step - loss: 0.1161 - accuracy: 1.0000\n",
      "Epoch 77/100\n",
      "24/24 [==============================] - 0s 417us/step - loss: 0.1140 - accuracy: 1.0000\n",
      "Epoch 78/100\n",
      "24/24 [==============================] - 0s 375us/step - loss: 0.1119 - accuracy: 1.0000\n",
      "Epoch 79/100\n",
      "24/24 [==============================] - 0s 417us/step - loss: 0.1099 - accuracy: 1.0000\n",
      "Epoch 80/100\n",
      "24/24 [==============================] - 0s 417us/step - loss: 0.1079 - accuracy: 1.0000\n",
      "Epoch 81/100\n"
     ]
    },
    {
     "name": "stdout",
     "output_type": "stream",
     "text": [
      "24/24 [==============================] - 0s 417us/step - loss: 0.1060 - accuracy: 1.0000\n",
      "Epoch 82/100\n",
      "24/24 [==============================] - 0s 417us/step - loss: 0.1041 - accuracy: 1.0000\n",
      "Epoch 83/100\n",
      "24/24 [==============================] - 0s 417us/step - loss: 0.1022 - accuracy: 1.0000\n",
      "Epoch 84/100\n",
      "24/24 [==============================] - 0s 417us/step - loss: 0.1004 - accuracy: 1.0000\n",
      "Epoch 85/100\n",
      "24/24 [==============================] - 0s 417us/step - loss: 0.0987 - accuracy: 1.0000\n",
      "Epoch 86/100\n",
      "24/24 [==============================] - 0s 417us/step - loss: 0.0970 - accuracy: 1.0000\n",
      "Epoch 87/100\n",
      "24/24 [==============================] - 0s 417us/step - loss: 0.0953 - accuracy: 1.0000\n",
      "Epoch 88/100\n",
      "24/24 [==============================] - 0s 417us/step - loss: 0.0936 - accuracy: 1.0000\n",
      "Epoch 89/100\n",
      "24/24 [==============================] - 0s 375us/step - loss: 0.0920 - accuracy: 1.0000\n",
      "Epoch 90/100\n",
      "24/24 [==============================] - 0s 459us/step - loss: 0.0905 - accuracy: 1.0000\n",
      "Epoch 91/100\n",
      "24/24 [==============================] - 0s 375us/step - loss: 0.0890 - accuracy: 1.0000\n",
      "Epoch 92/100\n",
      "24/24 [==============================] - 0s 417us/step - loss: 0.0875 - accuracy: 1.0000\n",
      "Epoch 93/100\n",
      "24/24 [==============================] - 0s 417us/step - loss: 0.0860 - accuracy: 1.0000\n",
      "Epoch 94/100\n",
      "24/24 [==============================] - 0s 375us/step - loss: 0.0846 - accuracy: 1.0000\n",
      "Epoch 95/100\n",
      "24/24 [==============================] - 0s 417us/step - loss: 0.0832 - accuracy: 1.0000\n",
      "Epoch 96/100\n",
      "24/24 [==============================] - 0s 417us/step - loss: 0.0818 - accuracy: 1.0000\n",
      "Epoch 97/100\n",
      "24/24 [==============================] - 0s 375us/step - loss: 0.0805 - accuracy: 1.0000\n",
      "Epoch 98/100\n",
      "24/24 [==============================] - 0s 417us/step - loss: 0.0792 - accuracy: 1.0000\n",
      "Epoch 99/100\n",
      "24/24 [==============================] - 0s 417us/step - loss: 0.0779 - accuracy: 1.0000\n",
      "Epoch 100/100\n",
      "24/24 [==============================] - 0s 417us/step - loss: 0.0767 - accuracy: 1.0000\n"
     ]
    }
   ],
   "source": [
    "# Fit the model to the training data\n",
    "fit_model = nn_model.fit(X_train_scaled, y_train, epochs=100)"
   ]
  },
  {
   "cell_type": "code",
   "execution_count": 11,
   "metadata": {},
   "outputs": [
    {
     "data": {
      "text/plain": [
       "<AxesSubplot:>"
      ]
     },
     "execution_count": 11,
     "metadata": {},
     "output_type": "execute_result"
    },
    {
     "data": {
      "image/png": "[encoded data removed]",
      "text/plain": [
       "<Figure size 432x288 with 1 Axes>"
      ]
     },
     "metadata": {
      "needs_background": "light"
     },
     "output_type": "display_data"
    }
   ],
   "source": [
    "# Create a DataFrame containing training history\n",
    "history_df = pd.DataFrame(fit_model.history, index=range(1,len(fit_model.history[\"loss\"])+1))\n",
    "\n",
    "# Plot the loss\n",
    "history_df.plot(y=\"loss\")"
   ]
  },
  {
   "cell_type": "code",
   "execution_count": 12,
   "metadata": {},
   "outputs": [
    {
     "data": {
      "text/plain": [
       "<AxesSubplot:>"
      ]
     },
     "execution_count": 12,
     "metadata": {},
     "output_type": "execute_result"
    },
    {
     "data": {
      "image/png": "[encoded data removed]",
      "text/plain": [
       "<Figure size 432x288 with 1 Axes>"
      ]
     },
     "metadata": {
      "needs_background": "light"
     },
     "output_type": "display_data"
    }
   ],
   "source": [
    "# Plot the accuracy\n",
    "history_df.plot(y=\"accuracy\")"
   ]
  },
  {
   "cell_type": "code",
   "execution_count": 13,
   "metadata": {},
   "outputs": [
    {
     "name": "stdout",
     "output_type": "stream",
     "text": [
      "8/8 - 0s - loss: 0.0713 - accuracy: 1.0000\n",
      "Loss: 0.07134351879358292, Accuracy: 1.0\n"
     ]
    }
   ],
   "source": [
    "# Evaluate the model using the test data\n",
    "model_loss, model_accuracy = nn_model.evaluate(X_test_scaled,y_test,verbose=2)\n",
    "print(f\"Loss: {model_loss}, Accuracy: {model_accuracy}\")"
   ]
  },
  {
   "cell_type": "markdown",
   "metadata": {},
   "source": [
    "Looking at the performance metrics from the model, the neural network was able to correctly classify each of the points in the test data. In other words, the model was able to correctly classify data it was not trained on 100% of the time. Although perfect model performance is ideal, more complex datasets and models may not be able to achieve 100% accuracy. Therefore, it is important to establish model performance thresholds before designing any machine learning model. Depending on the type of data and the use case, we may have to recreate and retrain a model using different parameters, different training/test data, or even look to use a different model entirely.\n",
    "\n",
    "Now that we have a trained neural network model and we have verified its performance using a test dataset, we can apply this model to novel datasets and predict the classification of a data point. In our Sequential model, we can use the predict method to generate predictions on new data. For example, if we wanted to predict the class of a new blob dataset, we can add and run the following code:"
   ]
  },
  {
   "cell_type": "code",
   "execution_count": 14,
   "metadata": {},
   "outputs": [
    {
     "data": {
      "text/plain": [
       "array([[0],\n",
       "       [1],\n",
       "       [0],\n",
       "       [1],\n",
       "       [0],\n",
       "       [0],\n",
       "       [1],\n",
       "       [1],\n",
       "       [1],\n",
       "       [0]])"
      ]
     },
     "execution_count": 14,
     "metadata": {},
     "output_type": "execute_result"
    }
   ],
   "source": [
    "# Predict the classification of a new set of blob data\n",
    "new_X, new_Y = make_blobs(n_samples=10, centers=2, n_features=2, random_state=78)\n",
    "new_X_scaled = X_scaler.transform(new_X)\n",
    "(nn_model.predict(new_X_scaled) > 0.5).astype(\"int32\")"
   ]
  },
  {
   "cell_type": "markdown",
   "metadata": {},
   "source": [
    "Now that we have designed a basic single-neuron, single-layer model, trained the model, and evaluated its performance using a test dataset, we are ready to start testing the limits of the basic neural network. As previously mentioned, simple linear regression and singular perceptron models work really well as a binary classifier when the data is linearly separable. But what about nonlinear data? How does our basic neural network model behave when data becomes more complicated?\n",
    "\n",
    "To test this behavior, let's generate some new dummy data. This time we'll generate some nonlinear moon-shaped data using Scikit-learn's make_moons method and visualize it using Pandas and Matplotlib. Using the same notebook, we'll add and run the following code:"
   ]
  },
  {
   "cell_type": "code",
   "execution_count": 15,
   "metadata": {},
   "outputs": [
    {
     "data": {
      "text/plain": [
       "<AxesSubplot:xlabel='Feature 1', ylabel='Feature 2'>"
      ]
     },
     "execution_count": 15,
     "metadata": {},
     "output_type": "execute_result"
    },
    {
     "data": {
      "image/png": "[encoded data removed]",
      "text/plain": [
       "<Figure size 432x288 with 2 Axes>"
      ]
     },
     "metadata": {
      "needs_background": "light"
     },
     "output_type": "display_data"
    }
   ],
   "source": [
    "from sklearn.datasets import make_moons\n",
    "\n",
    "# Creating dummy nonlinear data\n",
    "X_moons, y_moons = make_moons(n_samples=1000, noise=0.08, random_state=78)\n",
    "\n",
    "# Transforming y_moons to a vertical vector\n",
    "y_moons = y_moons.reshape(-1, 1)\n",
    "\n",
    "# Creating a DataFrame to plot the nonlinear dummy data\n",
    "df_moons = pd.DataFrame(X_moons, columns=[\"Feature 1\", \"Feature 2\"])\n",
    "df_moons[\"Target\"] = y_moons\n",
    "\n",
    "# Plot the nonlinear dummy data\n",
    "df_moons.plot.scatter(x=\"Feature 1\",y=\"Feature 2\", c=\"Target\",colormap=\"winter\")"
   ]
  },
  {
   "cell_type": "code",
   "execution_count": 16,
   "metadata": {},
   "outputs": [],
   "source": [
    "# Create training and testing sets\n",
    "X_moon_train, X_moon_test, y_moon_train, y_moon_test = train_test_split(\n",
    "    X_moons, y_moons, random_state=78\n",
    ")\n",
    "\n",
    "# Create the scaler instance\n",
    "X_moon_scaler = skl.preprocessing.StandardScaler()\n",
    "\n",
    "# Fit the scaler\n",
    "X_moon_scaler.fit(X_moon_train)\n",
    "\n",
    "# Scale the data\n",
    "X_moon_train_scaled = X_moon_scaler.transform(X_moon_train)\n",
    "X_moon_test_scaled = X_moon_scaler.transform(X_moon_test)"
   ]
  },
  {
   "cell_type": "code",
   "execution_count": 17,
   "metadata": {},
   "outputs": [
    {
     "name": "stdout",
     "output_type": "stream",
     "text": [
      "Epoch 1/100\n",
      "24/24 [==============================] - 0s 584us/step - loss: 1.1553 - accuracy: 0.4347\n",
      "Epoch 2/100\n",
      "24/24 [==============================] - 0s 584us/step - loss: 1.0099 - accuracy: 0.4613\n",
      "Epoch 3/100\n",
      "24/24 [==============================] - 0s 542us/step - loss: 0.9151 - accuracy: 0.4880\n",
      "Epoch 4/100\n",
      "24/24 [==============================] - 0s 584us/step - loss: 0.8524 - accuracy: 0.5067\n",
      "Epoch 5/100\n",
      "24/24 [==============================] - 0s 584us/step - loss: 0.8062 - accuracy: 0.5227\n",
      "Epoch 6/100\n",
      "24/24 [==============================] - 0s 584us/step - loss: 0.7698 - accuracy: 0.5440\n",
      "Epoch 7/100\n",
      "24/24 [==============================] - 0s 542us/step - loss: 0.7389 - accuracy: 0.5627\n",
      "Epoch 8/100\n",
      "24/24 [==============================] - 0s 542us/step - loss: 0.7134 - accuracy: 0.5747\n",
      "Epoch 9/100\n",
      "24/24 [==============================] - 0s 584us/step - loss: 0.6904 - accuracy: 0.5840\n",
      "Epoch 10/100\n",
      "24/24 [==============================] - 0s 542us/step - loss: 0.6700 - accuracy: 0.5933\n",
      "Epoch 11/100\n",
      "24/24 [==============================] - 0s 626us/step - loss: 0.6515 - accuracy: 0.5973\n",
      "Epoch 12/100\n",
      "24/24 [==============================] - 0s 626us/step - loss: 0.6343 - accuracy: 0.6013\n",
      "Epoch 13/100\n",
      "24/24 [==============================] - 0s 667us/step - loss: 0.6187 - accuracy: 0.6147\n",
      "Epoch 14/100\n",
      "24/24 [==============================] - 0s 626us/step - loss: 0.6039 - accuracy: 0.6187\n",
      "Epoch 15/100\n",
      "24/24 [==============================] - 0s 626us/step - loss: 0.5905 - accuracy: 0.6267\n",
      "Epoch 16/100\n",
      "24/24 [==============================] - 0s 626us/step - loss: 0.5780 - accuracy: 0.6360\n",
      "Epoch 17/100\n",
      "24/24 [==============================] - 0s 626us/step - loss: 0.5661 - accuracy: 0.6427\n",
      "Epoch 18/100\n",
      "24/24 [==============================] - 0s 626us/step - loss: 0.5553 - accuracy: 0.6440\n",
      "Epoch 19/100\n",
      "24/24 [==============================] - 0s 626us/step - loss: 0.5445 - accuracy: 0.6547\n",
      "Epoch 20/100\n",
      "24/24 [==============================] - 0s 626us/step - loss: 0.5349 - accuracy: 0.6653\n",
      "Epoch 21/100\n",
      "24/24 [==============================] - 0s 626us/step - loss: 0.5254 - accuracy: 0.6760\n",
      "Epoch 22/100\n",
      "24/24 [==============================] - 0s 626us/step - loss: 0.5167 - accuracy: 0.6800\n",
      "Epoch 23/100\n",
      "24/24 [==============================] - 0s 626us/step - loss: 0.5082 - accuracy: 0.6853\n",
      "Epoch 24/100\n",
      "24/24 [==============================] - 0s 626us/step - loss: 0.5002 - accuracy: 0.6880\n",
      "Epoch 25/100\n",
      "24/24 [==============================] - 0s 626us/step - loss: 0.4924 - accuracy: 0.6907\n",
      "Epoch 26/100\n",
      "24/24 [==============================] - 0s 626us/step - loss: 0.4849 - accuracy: 0.6973\n",
      "Epoch 27/100\n",
      "24/24 [==============================] - 0s 667us/step - loss: 0.4778 - accuracy: 0.7053\n",
      "Epoch 28/100\n",
      "24/24 [==============================] - 0s 625us/step - loss: 0.4709 - accuracy: 0.7120\n",
      "Epoch 29/100\n",
      "24/24 [==============================] - 0s 751us/step - loss: 0.4639 - accuracy: 0.7200\n",
      "Epoch 30/100\n",
      "24/24 [==============================] - 0s 667us/step - loss: 0.4575 - accuracy: 0.7213\n",
      "Epoch 31/100\n",
      "24/24 [==============================] - 0s 709us/step - loss: 0.4511 - accuracy: 0.7253\n",
      "Epoch 32/100\n",
      "24/24 [==============================] - 0s 667us/step - loss: 0.4450 - accuracy: 0.7333\n",
      "Epoch 33/100\n",
      "24/24 [==============================] - 0s 626us/step - loss: 0.4389 - accuracy: 0.7413\n",
      "Epoch 34/100\n",
      "24/24 [==============================] - 0s 667us/step - loss: 0.4331 - accuracy: 0.7507\n",
      "Epoch 35/100\n",
      "24/24 [==============================] - 0s 626us/step - loss: 0.4273 - accuracy: 0.7547\n",
      "Epoch 36/100\n",
      "24/24 [==============================] - 0s 709us/step - loss: 0.4218 - accuracy: 0.7600\n",
      "Epoch 37/100\n",
      "24/24 [==============================] - 0s 667us/step - loss: 0.4164 - accuracy: 0.7667\n",
      "Epoch 38/100\n",
      "24/24 [==============================] - 0s 667us/step - loss: 0.4110 - accuracy: 0.7707\n",
      "Epoch 39/100\n",
      "24/24 [==============================] - 0s 626us/step - loss: 0.4058 - accuracy: 0.7773\n",
      "Epoch 40/100\n",
      "24/24 [==============================] - 0s 626us/step - loss: 0.4007 - accuracy: 0.7827\n",
      "Epoch 41/100\n",
      "24/24 [==============================] - 0s 626us/step - loss: 0.3957 - accuracy: 0.7840\n",
      "Epoch 42/100\n",
      "24/24 [==============================] - 0s 626us/step - loss: 0.3908 - accuracy: 0.7840\n",
      "Epoch 43/100\n",
      "24/24 [==============================] - 0s 584us/step - loss: 0.3859 - accuracy: 0.7867\n",
      "Epoch 44/100\n",
      "24/24 [==============================] - 0s 626us/step - loss: 0.3812 - accuracy: 0.7920\n",
      "Epoch 45/100\n",
      "24/24 [==============================] - 0s 626us/step - loss: 0.3766 - accuracy: 0.7947\n",
      "Epoch 46/100\n",
      "24/24 [==============================] - 0s 626us/step - loss: 0.3722 - accuracy: 0.7960\n",
      "Epoch 47/100\n",
      "24/24 [==============================] - 0s 626us/step - loss: 0.3680 - accuracy: 0.7987\n",
      "Epoch 48/100\n",
      "24/24 [==============================] - 0s 626us/step - loss: 0.3639 - accuracy: 0.8040\n",
      "Epoch 49/100\n",
      "24/24 [==============================] - 0s 626us/step - loss: 0.3600 - accuracy: 0.8067\n",
      "Epoch 50/100\n",
      "24/24 [==============================] - 0s 667us/step - loss: 0.3561 - accuracy: 0.8093\n",
      "Epoch 51/100\n",
      "24/24 [==============================] - 0s 626us/step - loss: 0.3524 - accuracy: 0.8147\n",
      "Epoch 52/100\n",
      "24/24 [==============================] - 0s 667us/step - loss: 0.3490 - accuracy: 0.8173\n",
      "Epoch 53/100\n",
      "24/24 [==============================] - 0s 709us/step - loss: 0.3456 - accuracy: 0.8200\n",
      "Epoch 54/100\n",
      "24/24 [==============================] - 0s 667us/step - loss: 0.3424 - accuracy: 0.8267\n",
      "Epoch 55/100\n",
      "24/24 [==============================] - 0s 667us/step - loss: 0.3392 - accuracy: 0.8280\n",
      "Epoch 56/100\n",
      "24/24 [==============================] - ETA: 0s - loss: 0.3124 - accuracy: 0.81 - 0s 626us/step - loss: 0.3363 - accuracy: 0.8333\n",
      "Epoch 57/100\n",
      "24/24 [==============================] - 0s 667us/step - loss: 0.3333 - accuracy: 0.8347\n",
      "Epoch 58/100\n",
      "24/24 [==============================] - 0s 667us/step - loss: 0.3305 - accuracy: 0.8373\n",
      "Epoch 59/100\n",
      "24/24 [==============================] - 0s 667us/step - loss: 0.3279 - accuracy: 0.8413\n",
      "Epoch 60/100\n",
      "24/24 [==============================] - 0s 626us/step - loss: 0.3253 - accuracy: 0.8453\n",
      "Epoch 61/100\n",
      "24/24 [==============================] - 0s 626us/step - loss: 0.3227 - accuracy: 0.8480\n",
      "Epoch 62/100\n",
      "24/24 [==============================] - 0s 626us/step - loss: 0.3203 - accuracy: 0.8507\n",
      "Epoch 63/100\n",
      "24/24 [==============================] - 0s 626us/step - loss: 0.3180 - accuracy: 0.8520\n",
      "Epoch 64/100\n",
      "24/24 [==============================] - 0s 626us/step - loss: 0.3157 - accuracy: 0.8560\n",
      "Epoch 65/100\n",
      "24/24 [==============================] - 0s 626us/step - loss: 0.3134 - accuracy: 0.8560\n",
      "Epoch 66/100\n",
      "24/24 [==============================] - 0s 667us/step - loss: 0.3113 - accuracy: 0.8600\n",
      "Epoch 67/100\n",
      "24/24 [==============================] - 0s 626us/step - loss: 0.3093 - accuracy: 0.8613\n",
      "Epoch 68/100\n",
      "24/24 [==============================] - 0s 667us/step - loss: 0.3073 - accuracy: 0.8640\n",
      "Epoch 69/100\n",
      "24/24 [==============================] - 0s 667us/step - loss: 0.3054 - accuracy: 0.8667\n",
      "Epoch 70/100\n",
      "24/24 [==============================] - 0s 626us/step - loss: 0.3036 - accuracy: 0.8667\n",
      "Epoch 71/100\n",
      "24/24 [==============================] - 0s 584us/step - loss: 0.3018 - accuracy: 0.8667\n",
      "Epoch 72/100\n",
      "24/24 [==============================] - 0s 626us/step - loss: 0.3001 - accuracy: 0.8680\n",
      "Epoch 73/100\n",
      "24/24 [==============================] - 0s 626us/step - loss: 0.2985 - accuracy: 0.8680\n",
      "Epoch 74/100\n",
      "24/24 [==============================] - 0s 626us/step - loss: 0.2969 - accuracy: 0.8693\n",
      "Epoch 75/100\n",
      "24/24 [==============================] - 0s 626us/step - loss: 0.2954 - accuracy: 0.8693\n",
      "Epoch 76/100\n",
      "24/24 [==============================] - 0s 584us/step - loss: 0.2939 - accuracy: 0.8693\n",
      "Epoch 77/100\n",
      "24/24 [==============================] - 0s 584us/step - loss: 0.2925 - accuracy: 0.8707\n",
      "Epoch 78/100\n",
      "24/24 [==============================] - 0s 584us/step - loss: 0.2911 - accuracy: 0.8707\n",
      "Epoch 79/100\n",
      "24/24 [==============================] - 0s 626us/step - loss: 0.2897 - accuracy: 0.8707\n",
      "Epoch 80/100\n",
      "24/24 [==============================] - 0s 626us/step - loss: 0.2884 - accuracy: 0.8720\n"
     ]
    },
    {
     "name": "stdout",
     "output_type": "stream",
     "text": [
      "Epoch 81/100\n",
      "24/24 [==============================] - 0s 626us/step - loss: 0.2872 - accuracy: 0.8733\n",
      "Epoch 82/100\n",
      "24/24 [==============================] - 0s 626us/step - loss: 0.2860 - accuracy: 0.8733\n",
      "Epoch 83/100\n",
      "24/24 [==============================] - 0s 626us/step - loss: 0.2849 - accuracy: 0.8733\n",
      "Epoch 84/100\n",
      "24/24 [==============================] - 0s 626us/step - loss: 0.2838 - accuracy: 0.8733\n",
      "Epoch 85/100\n",
      "24/24 [==============================] - 0s 626us/step - loss: 0.2828 - accuracy: 0.8733\n",
      "Epoch 86/100\n",
      "24/24 [==============================] - 0s 667us/step - loss: 0.2817 - accuracy: 0.8733\n",
      "Epoch 87/100\n",
      "24/24 [==============================] - 0s 626us/step - loss: 0.2808 - accuracy: 0.8733\n",
      "Epoch 88/100\n",
      "24/24 [==============================] - 0s 626us/step - loss: 0.2799 - accuracy: 0.8733\n",
      "Epoch 89/100\n",
      "24/24 [==============================] - 0s 584us/step - loss: 0.2790 - accuracy: 0.8747\n",
      "Epoch 90/100\n",
      "24/24 [==============================] - 0s 626us/step - loss: 0.2781 - accuracy: 0.8773\n",
      "Epoch 91/100\n",
      "24/24 [==============================] - 0s 626us/step - loss: 0.2773 - accuracy: 0.8800\n",
      "Epoch 92/100\n",
      "24/24 [==============================] - 0s 626us/step - loss: 0.2764 - accuracy: 0.8800\n",
      "Epoch 93/100\n",
      "24/24 [==============================] - 0s 584us/step - loss: 0.2757 - accuracy: 0.8813\n",
      "Epoch 94/100\n",
      "24/24 [==============================] - 0s 626us/step - loss: 0.2749 - accuracy: 0.8813\n",
      "Epoch 95/100\n",
      "24/24 [==============================] - 0s 626us/step - loss: 0.2741 - accuracy: 0.8827\n",
      "Epoch 96/100\n",
      "24/24 [==============================] - 0s 628us/step - loss: 0.2734 - accuracy: 0.8840\n",
      "Epoch 97/100\n",
      "24/24 [==============================] - 0s 626us/step - loss: 0.2728 - accuracy: 0.8840\n",
      "Epoch 98/100\n",
      "24/24 [==============================] - 0s 584us/step - loss: 0.2721 - accuracy: 0.8853\n",
      "Epoch 99/100\n",
      "24/24 [==============================] - 0s 626us/step - loss: 0.2714 - accuracy: 0.8853\n",
      "Epoch 100/100\n",
      "24/24 [==============================] - 0s 626us/step - loss: 0.2708 - accuracy: 0.8867\n"
     ]
    }
   ],
   "source": [
    "# Training the model with the nonlinear data\n",
    "model_moon = nn_model.fit(X_moon_train_scaled, y_moon_train, epochs=100, shuffle=True)"
   ]
  },
  {
   "cell_type": "code",
   "execution_count": 18,
   "metadata": {},
   "outputs": [
    {
     "data": {
      "text/plain": [
       "<AxesSubplot:>"
      ]
     },
     "execution_count": 18,
     "metadata": {},
     "output_type": "execute_result"
    },
    {
     "data": {
      "image/png": "[encoded data removed]",
      "text/plain": [
       "<Figure size 432x288 with 1 Axes>"
      ]
     },
     "metadata": {
      "needs_background": "light"
     },
     "output_type": "display_data"
    }
   ],
   "source": [
    "# Create a DataFrame containing training history\n",
    "history_df = pd.DataFrame(model_moon.history, index=range(1,len(model_moon.history[\"loss\"])+1))\n",
    "\n",
    "# Plot the loss\n",
    "history_df.plot(y=\"loss\")"
   ]
  },
  {
   "cell_type": "code",
   "execution_count": 19,
   "metadata": {},
   "outputs": [
    {
     "data": {
      "text/plain": [
       "<AxesSubplot:>"
      ]
     },
     "execution_count": 19,
     "metadata": {},
     "output_type": "execute_result"
    },
    {
     "data": {
      "image/png": "[encoded data removed]",
      "text/plain": [
       "<Figure size 432x288 with 1 Axes>"
      ]
     },
     "metadata": {
      "needs_background": "light"
     },
     "output_type": "display_data"
    }
   ],
   "source": [
    "# Plot the loss\n",
    "history_df.plot(y=\"accuracy\")"
   ]
  },
  {
   "cell_type": "markdown",
   "metadata": {},
   "source": [
    "According to the accuracy metric, the basic single-neuron, single-layer neural network model was only able to correctly classify 89% of all data points in the nonlinear training data. Depending on a person's use case, 89% accuracy could be sufficient for a first-pass model. For example, if we were trying to use a neural network model to separate left-handed people from right-handed people, a model that is correct 89% of the time is very accurate, and guessing incorrectly does not have a huge negative impact.\n",
    "\n",
    "However, in many industrial and medical use cases, a model's classification accuracy must exceed 95% or even 99%. In these cases, we wouldn't be satisfied with the basic single-neuron, single-layer neural network model, and we would have to design a more robust neural network. In summary, the more complicated and nonlinear the dataset, the more components we'd need to add to a neural network to achieve our desired performance.\n",
    "\n",
    "adding neurons to a neural network can help to generate a well-performing model faster than using a single-neuron, single-layer neural network. In fact, there are multiple advantages to adding neurons to our hidden layer in a neural network. Some of the advantages follow:\n",
    "\n",
    "There is a distributed effort to find optimal weights—faster.\n",
    "Each neuron can focus on different features to identify nonlinear effects—smarter.\n",
    "It is less likely to fixate on complex variables—more robust.\n",
    "So, if adding more neurons to our neural network model increases the performance, why wouldn't we always use the maximum number of neurons? There are two main reasons to limit the number of neurons in a neural network model: overfitting and computation resources. Similar to other machine learning algorithms, neural networks are susceptible to overfitting where the model fits the training data too well. As a result of overfitting, the neural network will not generalize well and won't be able to classify new data correctly. Additionally, a neural network model with a large number of neurons requires equally large training dataset—training a large neural network requires more data, more epochs, and more time. Therefore, it is important that a neural network model has an appropriate number of neurons to match the size of the data, the complexity of the problem, and the amount of input neurons.\n",
    "\n",
    "A good rule of thumb for a basic neural network is to have two to three times the amount of neurons in the hidden layer as the number of inputs."
   ]
  },
  {
   "cell_type": "code",
   "execution_count": 20,
   "metadata": {},
   "outputs": [],
   "source": [
    "# Generate our new Sequential model\n",
    "new_model = tf.keras.models.Sequential()"
   ]
  },
  {
   "cell_type": "code",
   "execution_count": 21,
   "metadata": {},
   "outputs": [],
   "source": [
    "# Add the input and hidden layer\n",
    "number_inputs = 2\n",
    "number_hidden_nodes = 6\n",
    "\n",
    "new_model.add(tf.keras.layers.Dense(units=number_hidden_nodes, activation=\"relu\", input_dim=number_inputs))\n",
    "\n",
    "# Add the output layer that uses a probability activation function\n",
    "new_model.add(tf.keras.layers.Dense(units=1, activation=\"sigmoid\"))"
   ]
  },
  {
   "cell_type": "code",
   "execution_count": 22,
   "metadata": {},
   "outputs": [
    {
     "name": "stdout",
     "output_type": "stream",
     "text": [
      "Epoch 1/100\n",
      "24/24 [==============================] - 0s 417us/step - loss: 0.6951 - accuracy: 0.3720\n",
      "Epoch 2/100\n",
      "24/24 [==============================] - 0s 375us/step - loss: 0.6478 - accuracy: 0.7173\n",
      "Epoch 3/100\n",
      "24/24 [==============================] - 0s 375us/step - loss: 0.6046 - accuracy: 0.7893\n",
      "Epoch 4/100\n",
      "24/24 [==============================] - 0s 375us/step - loss: 0.5650 - accuracy: 0.8187\n",
      "Epoch 5/100\n",
      "24/24 [==============================] - 0s 375us/step - loss: 0.5291 - accuracy: 0.8387\n",
      "Epoch 6/100\n",
      "24/24 [==============================] - 0s 375us/step - loss: 0.4967 - accuracy: 0.8453\n",
      "Epoch 7/100\n",
      "24/24 [==============================] - 0s 375us/step - loss: 0.4678 - accuracy: 0.8507\n",
      "Epoch 8/100\n",
      "24/24 [==============================] - 0s 417us/step - loss: 0.4422 - accuracy: 0.8493\n",
      "Epoch 9/100\n",
      "24/24 [==============================] - 0s 375us/step - loss: 0.4199 - accuracy: 0.8547\n",
      "Epoch 10/100\n",
      "24/24 [==============================] - 0s 375us/step - loss: 0.4000 - accuracy: 0.8587\n",
      "Epoch 11/100\n",
      "24/24 [==============================] - 0s 375us/step - loss: 0.3834 - accuracy: 0.8600\n",
      "Epoch 12/100\n",
      "24/24 [==============================] - 0s 375us/step - loss: 0.3687 - accuracy: 0.8613\n",
      "Epoch 13/100\n",
      "24/24 [==============================] - 0s 375us/step - loss: 0.3558 - accuracy: 0.8653\n",
      "Epoch 14/100\n",
      "24/24 [==============================] - 0s 375us/step - loss: 0.3448 - accuracy: 0.8680\n",
      "Epoch 15/100\n",
      "24/24 [==============================] - 0s 375us/step - loss: 0.3354 - accuracy: 0.8680\n",
      "Epoch 16/100\n",
      "24/24 [==============================] - 0s 417us/step - loss: 0.3270 - accuracy: 0.8680\n",
      "Epoch 17/100\n",
      "24/24 [==============================] - 0s 375us/step - loss: 0.3194 - accuracy: 0.8693\n",
      "Epoch 18/100\n",
      "24/24 [==============================] - 0s 375us/step - loss: 0.3127 - accuracy: 0.8693\n",
      "Epoch 19/100\n",
      "24/24 [==============================] - 0s 417us/step - loss: 0.3070 - accuracy: 0.8707\n",
      "Epoch 20/100\n",
      "24/24 [==============================] - 0s 417us/step - loss: 0.3017 - accuracy: 0.8707\n",
      "Epoch 21/100\n",
      "24/24 [==============================] - 0s 375us/step - loss: 0.2971 - accuracy: 0.8707\n",
      "Epoch 22/100\n",
      "24/24 [==============================] - 0s 375us/step - loss: 0.2929 - accuracy: 0.8720\n",
      "Epoch 23/100\n",
      "24/24 [==============================] - 0s 375us/step - loss: 0.2892 - accuracy: 0.8720\n",
      "Epoch 24/100\n",
      "24/24 [==============================] - 0s 375us/step - loss: 0.2857 - accuracy: 0.8733\n",
      "Epoch 25/100\n",
      "24/24 [==============================] - 0s 375us/step - loss: 0.2824 - accuracy: 0.8747\n",
      "Epoch 26/100\n",
      "24/24 [==============================] - 0s 375us/step - loss: 0.2795 - accuracy: 0.8760\n",
      "Epoch 27/100\n",
      "24/24 [==============================] - 0s 375us/step - loss: 0.2768 - accuracy: 0.8787\n",
      "Epoch 28/100\n",
      "24/24 [==============================] - 0s 375us/step - loss: 0.2742 - accuracy: 0.8800\n",
      "Epoch 29/100\n",
      "24/24 [==============================] - 0s 375us/step - loss: 0.2718 - accuracy: 0.8827\n",
      "Epoch 30/100\n",
      "24/24 [==============================] - 0s 375us/step - loss: 0.2696 - accuracy: 0.8827\n",
      "Epoch 31/100\n",
      "24/24 [==============================] - 0s 375us/step - loss: 0.2675 - accuracy: 0.8853\n",
      "Epoch 32/100\n",
      "24/24 [==============================] - 0s 375us/step - loss: 0.2656 - accuracy: 0.8867\n",
      "Epoch 33/100\n",
      "24/24 [==============================] - 0s 417us/step - loss: 0.2637 - accuracy: 0.8893\n",
      "Epoch 34/100\n",
      "24/24 [==============================] - 0s 375us/step - loss: 0.2621 - accuracy: 0.8907\n",
      "Epoch 35/100\n",
      "24/24 [==============================] - 0s 375us/step - loss: 0.2603 - accuracy: 0.8920\n",
      "Epoch 36/100\n",
      "24/24 [==============================] - 0s 417us/step - loss: 0.2588 - accuracy: 0.8933\n",
      "Epoch 37/100\n",
      "24/24 [==============================] - 0s 417us/step - loss: 0.2574 - accuracy: 0.8933\n",
      "Epoch 38/100\n",
      "24/24 [==============================] - 0s 417us/step - loss: 0.2561 - accuracy: 0.8933\n",
      "Epoch 39/100\n",
      "24/24 [==============================] - 0s 334us/step - loss: 0.2548 - accuracy: 0.8920\n",
      "Epoch 40/100\n",
      "24/24 [==============================] - 0s 417us/step - loss: 0.2538 - accuracy: 0.8907\n",
      "Epoch 41/100\n",
      "24/24 [==============================] - 0s 375us/step - loss: 0.2526 - accuracy: 0.8907\n",
      "Epoch 42/100\n",
      "24/24 [==============================] - 0s 417us/step - loss: 0.2517 - accuracy: 0.8907\n",
      "Epoch 43/100\n",
      "24/24 [==============================] - 0s 417us/step - loss: 0.2507 - accuracy: 0.8907\n",
      "Epoch 44/100\n",
      "24/24 [==============================] - 0s 375us/step - loss: 0.2498 - accuracy: 0.8907\n",
      "Epoch 45/100\n",
      "24/24 [==============================] - 0s 417us/step - loss: 0.2491 - accuracy: 0.8920\n",
      "Epoch 46/100\n",
      "24/24 [==============================] - 0s 417us/step - loss: 0.2483 - accuracy: 0.8920\n",
      "Epoch 47/100\n",
      "24/24 [==============================] - 0s 375us/step - loss: 0.2476 - accuracy: 0.8933\n",
      "Epoch 48/100\n",
      "24/24 [==============================] - 0s 375us/step - loss: 0.2470 - accuracy: 0.8920\n",
      "Epoch 49/100\n",
      "24/24 [==============================] - 0s 375us/step - loss: 0.2464 - accuracy: 0.8920\n",
      "Epoch 50/100\n",
      "24/24 [==============================] - 0s 417us/step - loss: 0.2457 - accuracy: 0.8907\n",
      "Epoch 51/100\n",
      "24/24 [==============================] - 0s 417us/step - loss: 0.2452 - accuracy: 0.8907\n",
      "Epoch 52/100\n",
      "24/24 [==============================] - 0s 375us/step - loss: 0.2447 - accuracy: 0.8907\n",
      "Epoch 53/100\n",
      "24/24 [==============================] - 0s 417us/step - loss: 0.2442 - accuracy: 0.8907\n",
      "Epoch 54/100\n",
      "24/24 [==============================] - 0s 417us/step - loss: 0.2438 - accuracy: 0.8907\n",
      "Epoch 55/100\n",
      "24/24 [==============================] - 0s 417us/step - loss: 0.2432 - accuracy: 0.8920\n",
      "Epoch 56/100\n",
      "24/24 [==============================] - 0s 417us/step - loss: 0.2428 - accuracy: 0.8920\n",
      "Epoch 57/100\n",
      "24/24 [==============================] - 0s 375us/step - loss: 0.2424 - accuracy: 0.8933\n",
      "Epoch 58/100\n",
      "24/24 [==============================] - 0s 417us/step - loss: 0.2420 - accuracy: 0.8933\n",
      "Epoch 59/100\n",
      "24/24 [==============================] - 0s 417us/step - loss: 0.2417 - accuracy: 0.8933\n",
      "Epoch 60/100\n",
      "24/24 [==============================] - 0s 375us/step - loss: 0.2413 - accuracy: 0.8947\n",
      "Epoch 61/100\n",
      "24/24 [==============================] - 0s 417us/step - loss: 0.2409 - accuracy: 0.8947\n",
      "Epoch 62/100\n",
      "24/24 [==============================] - 0s 417us/step - loss: 0.2406 - accuracy: 0.8947\n",
      "Epoch 63/100\n",
      "24/24 [==============================] - 0s 417us/step - loss: 0.2403 - accuracy: 0.8933\n",
      "Epoch 64/100\n",
      "24/24 [==============================] - 0s 417us/step - loss: 0.2398 - accuracy: 0.8947\n",
      "Epoch 65/100\n",
      "24/24 [==============================] - 0s 417us/step - loss: 0.2395 - accuracy: 0.8947\n",
      "Epoch 66/100\n",
      "24/24 [==============================] - 0s 500us/step - loss: 0.2391 - accuracy: 0.8947\n",
      "Epoch 67/100\n",
      "24/24 [==============================] - 0s 459us/step - loss: 0.2387 - accuracy: 0.8947\n",
      "Epoch 68/100\n",
      "24/24 [==============================] - 0s 417us/step - loss: 0.2385 - accuracy: 0.8947\n",
      "Epoch 69/100\n",
      "24/24 [==============================] - 0s 375us/step - loss: 0.2382 - accuracy: 0.8947\n",
      "Epoch 70/100\n",
      "24/24 [==============================] - 0s 375us/step - loss: 0.2378 - accuracy: 0.8947\n",
      "Epoch 71/100\n",
      "24/24 [==============================] - 0s 375us/step - loss: 0.2375 - accuracy: 0.8947\n",
      "Epoch 72/100\n",
      "24/24 [==============================] - 0s 375us/step - loss: 0.2372 - accuracy: 0.8947\n",
      "Epoch 73/100\n",
      "24/24 [==============================] - 0s 375us/step - loss: 0.2368 - accuracy: 0.8947\n",
      "Epoch 74/100\n",
      "24/24 [==============================] - 0s 375us/step - loss: 0.2365 - accuracy: 0.8947\n",
      "Epoch 75/100\n",
      "24/24 [==============================] - 0s 375us/step - loss: 0.2362 - accuracy: 0.8933\n",
      "Epoch 76/100\n",
      "24/24 [==============================] - 0s 375us/step - loss: 0.2359 - accuracy: 0.8947\n",
      "Epoch 77/100\n",
      "24/24 [==============================] - 0s 417us/step - loss: 0.2356 - accuracy: 0.8933\n",
      "Epoch 78/100\n",
      "24/24 [==============================] - 0s 417us/step - loss: 0.2353 - accuracy: 0.8933\n",
      "Epoch 79/100\n",
      "24/24 [==============================] - 0s 417us/step - loss: 0.2350 - accuracy: 0.8947\n",
      "Epoch 80/100\n",
      "24/24 [==============================] - 0s 417us/step - loss: 0.2347 - accuracy: 0.8933\n",
      "Epoch 81/100\n"
     ]
    },
    {
     "name": "stdout",
     "output_type": "stream",
     "text": [
      "24/24 [==============================] - 0s 375us/step - loss: 0.2344 - accuracy: 0.8947\n",
      "Epoch 82/100\n",
      "24/24 [==============================] - 0s 417us/step - loss: 0.2340 - accuracy: 0.8960\n",
      "Epoch 83/100\n",
      "24/24 [==============================] - 0s 417us/step - loss: 0.2337 - accuracy: 0.8947\n",
      "Epoch 84/100\n",
      "24/24 [==============================] - 0s 459us/step - loss: 0.2334 - accuracy: 0.8947\n",
      "Epoch 85/100\n",
      "24/24 [==============================] - 0s 417us/step - loss: 0.2331 - accuracy: 0.8947\n",
      "Epoch 86/100\n",
      "24/24 [==============================] - 0s 417us/step - loss: 0.2327 - accuracy: 0.8947\n",
      "Epoch 87/100\n",
      "24/24 [==============================] - 0s 417us/step - loss: 0.2325 - accuracy: 0.8947\n",
      "Epoch 88/100\n",
      "24/24 [==============================] - 0s 417us/step - loss: 0.2322 - accuracy: 0.8947\n",
      "Epoch 89/100\n",
      "24/24 [==============================] - 0s 459us/step - loss: 0.2320 - accuracy: 0.8947\n",
      "Epoch 90/100\n",
      "24/24 [==============================] - 0s 459us/step - loss: 0.2316 - accuracy: 0.8947\n",
      "Epoch 91/100\n",
      "24/24 [==============================] - 0s 459us/step - loss: 0.2314 - accuracy: 0.8947\n",
      "Epoch 92/100\n",
      "24/24 [==============================] - 0s 459us/step - loss: 0.2311 - accuracy: 0.8947\n",
      "Epoch 93/100\n",
      "24/24 [==============================] - 0s 459us/step - loss: 0.2309 - accuracy: 0.8947\n",
      "Epoch 94/100\n",
      "24/24 [==============================] - 0s 417us/step - loss: 0.2306 - accuracy: 0.8933\n",
      "Epoch 95/100\n",
      "24/24 [==============================] - 0s 417us/step - loss: 0.2303 - accuracy: 0.8947\n",
      "Epoch 96/100\n",
      "24/24 [==============================] - 0s 417us/step - loss: 0.2299 - accuracy: 0.8947\n",
      "Epoch 97/100\n",
      "24/24 [==============================] - 0s 417us/step - loss: 0.2297 - accuracy: 0.8947\n",
      "Epoch 98/100\n",
      "24/24 [==============================] - 0s 417us/step - loss: 0.2294 - accuracy: 0.8947\n",
      "Epoch 99/100\n",
      "24/24 [==============================] - 0s 375us/step - loss: 0.2291 - accuracy: 0.8947\n",
      "Epoch 100/100\n",
      "24/24 [==============================] - 0s 417us/step - loss: 0.2288 - accuracy: 0.8960\n"
     ]
    }
   ],
   "source": [
    "# Compile the Sequential model together and customize metrics\n",
    "new_model.compile(loss=\"binary_crossentropy\", optimizer=\"adam\", metrics=[\"accuracy\"])\n",
    "\n",
    "# Fit the model to the training data\n",
    "new_fit_model = new_model.fit(X_moon_train_scaled, y_moon_train, epochs=100, shuffle=True)"
   ]
  },
  {
   "cell_type": "markdown",
   "metadata": {},
   "source": [
    "Looking at the training metrics of our new model, as we increase the number of neurons within the hidden layer, the classification accuracy improves. You may have noticed that adding multiple neurons to our neural network did not yield a perfect classification model. As input data becomes more complex, neural networks will require more and more optimization tweaks to achieve their desired accuracy."
   ]
  }
 ],
 "metadata": {
  "kernelspec": {
   "display_name": "Python 3",
   "language": "python",
   "name": "python3"
  },
  "language_info": {
   "codemirror_mode": {
    "name": "ipython",
    "version": 3
   },
   "file_extension": ".py",
   "mimetype": "text/x-python",
   "name": "python",
   "nbconvert_exporter": "python",
   "pygments_lexer": "ipython3",
   "version": "3.8.5"
  }
 },
 "nbformat": 4,
 "nbformat_minor": 4
}
