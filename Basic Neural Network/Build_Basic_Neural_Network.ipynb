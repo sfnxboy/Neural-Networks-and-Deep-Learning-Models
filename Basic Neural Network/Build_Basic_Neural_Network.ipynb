{
 "cells": [
  {
   "cell_type": "code",
   "execution_count": 1,
   "metadata": {},
   "outputs": [],
   "source": [
    "# Import our dependencies\n",
    "import pandas as pd\n",
    "import matplotlib as plt\n",
    "from sklearn.datasets import make_blobs\n",
    "import sklearn as skl\n",
    "import tensorflow as tf"
   ]
  },
  {
   "cell_type": "markdown",
   "metadata": {},
   "source": [
    "We create a dummy data using Scikit-learn's `make_blob` method. For our purposes we will create 1,000 samples with two features (aka our x and y-axis values) that are linearly seperable into two groups."
   ]
  },
  {
   "cell_type": "code",
   "execution_count": 2,
   "metadata": {},
   "outputs": [
    {
     "data": {
      "text/plain": [
       "<AxesSubplot:xlabel='Feature 1', ylabel='Feature 2'>"
      ]
     },
     "execution_count": 2,
     "metadata": {},
     "output_type": "execute_result"
    },
    {
     "data": {
      "image/png": "[encoded data removed]",
      "text/plain": [
       "<Figure size 432x288 with 2 Axes>"
      ]
     },
     "metadata": {
      "needs_background": "light"
     },
     "output_type": "display_data"
    }
   ],
   "source": [
    "# Generate dummy dataset\n",
    "X, y = make_blobs(n_samples=1000, centers=2, n_features=2, random_state=78)\n",
    "\n",
    "# Creating a DataFrame with the dummy data\n",
    "df = pd.DataFrame(X, columns=[\"Feature 1\", \"Feature 2\"])\n",
    "df[\"Target\"] = y\n",
    "\n",
    "# Plotting the dummy data\n",
    "df.plot.scatter(x=\"Feature 1\", y=\"Feature 2\", c=\"Target\", colormap=\"winter\")"
   ]
  },
  {
   "cell_type": "code",
   "execution_count": 3,
   "metadata": {},
   "outputs": [],
   "source": [
    "# Use sklearn to split dataset\n",
    "from sklearn.model_selection import train_test_split\n",
    "X_train, X_test, y_train, y_test = train_test_split(X, y, random_state=78)"
   ]
  },
  {
   "cell_type": "markdown",
   "metadata": {},
   "source": [
    "Now that we have our training data, we need to prepare the dataset for our neural network model. As with any machine learning algorithm, it is crucial to normalize or standardize our numerical variables to ensure that our neural network does not focus on outliers and can apply proper weights to each input. In most cases, the more that input variables are normalized to the same scale, the more stable the neural network model is, and the better the neural network model will generalize. "
   ]
  },
  {
   "cell_type": "code",
   "execution_count": 4,
   "metadata": {},
   "outputs": [],
   "source": [
    "# Create scaler instance\n",
    "X_scaler = skl.preprocessing.StandardScaler()\n",
    "\n",
    "# Fit the scaler\n",
    "X_scaler.fit(X_train)\n",
    "\n",
    "# Scale the data\n",
    "X_train_scaled = X_scaler.transform(X_train)\n",
    "X_test_scaled = X_scaler.transform(X_test)"
   ]
  },
  {
   "cell_type": "markdown",
   "metadata": {},
   "source": [
    "Finally, we have our data ready for our first neural network model! To create the neural network in our notebook, first we must create our Sequential model. To do this, we must add the following code to the notebook:"
   ]
  },
  {
   "cell_type": "code",
   "execution_count": 5,
   "metadata": {},
   "outputs": [],
   "source": [
    "# Create the Keras Sequential model\n",
    "nn_model = tf.keras.models.Sequential()"
   ]
  },
  {
   "cell_type": "markdown",
   "metadata": {},
   "source": [
    "The Keras module does not have specific classes for input, hidden, and output layers. All layers are built using the Dense class, and the input and first hidden layer are always built in the same instance. we can add layers to our Sequential model using Keras' Dense class. For our first layer, we need to define a few parameters:\n",
    "\n",
    "- The input_dimparameter indicates how many inputs will be in the model (in this case two).\n",
    "- The units parameter indicates how many neurons we want in the hidden layer (in this case one).\n",
    "- The activation parameter indicates which activation function to use. We'll use the ReLU activation function to allow our hidden layer to identify and train on nonlinear relationships in the dataset.\n",
    "\n",
    "Putting it all together, our first Dense layer should have the following Python code:"
   ]
  },
  {
   "cell_type": "code",
   "execution_count": 6,
   "metadata": {},
   "outputs": [],
   "source": [
    "# Add our first Dense layer, including the input layer\n",
    "nn_model.add(tf.keras.layers.Dense(units=1, activation=\"relu\", input_dim=2))"
   ]
  },
  {
   "cell_type": "markdown",
   "metadata": {},
   "source": [
    "Defining an activation function as part of the first layer is suggested but not required. By default, a Dense layer will look for linear relationships. Now that we have our input and hidden layers built, we need to add an output layer. Once again, we'll use the Dense class to tell our Sequential model what to do with the data. This time, we only need to supply the number of output neurons. For a classification model, we only want a yes or no binary decision; therefore, we only need one output neuron. In our previous layer, we used a ReLU activation function to enable nonlinear relationships; however, for our classification output, we want to use a sigmoid activation function to produce a probability output."
   ]
  },
  {
   "cell_type": "code",
   "execution_count": 7,
   "metadata": {},
   "outputs": [],
   "source": [
    "# Add the output layer that uses a probability activation function\n",
    "nn_model.add(tf.keras.layers.Dense(units=1, activation=\"sigmoid\"))"
   ]
  },
  {
   "cell_type": "code",
   "execution_count": 8,
   "metadata": {},
   "outputs": [
    {
     "name": "stdout",
     "output_type": "stream",
     "text": [
      "Model: \"sequential\"\n",
      "_________________________________________________________________\n",
      "Layer (type)                 Output Shape              Param #   \n",
      "=================================================================\n",
      "dense (Dense)                (None, 1)                 3         \n",
      "_________________________________________________________________\n",
      "dense_1 (Dense)              (None, 1)                 2         \n",
      "=================================================================\n",
      "Total params: 5\n",
      "Trainable params: 5\n",
      "Non-trainable params: 0\n",
      "_________________________________________________________________\n"
     ]
    }
   ],
   "source": [
    "# Check the structure of the Sequential model\n",
    "nn_model.summary()"
   ]
  },
  {
   "cell_type": "code",
   "execution_count": 9,
   "metadata": {},
   "outputs": [],
   "source": [
    "# Compile the Sequential model together and customize metrics\n",
    "nn_model.compile(loss=\"binary_crossentropy\", optimizer=\"adam\", metrics=[\"accuracy\"])"
   ]
  },
  {
   "cell_type": "markdown",
   "metadata": {},
   "source": [
    "Depending on the function of the neural network, we'll have to compile the neural network using a specific optimization function and loss metric. The optimization function shapes and molds a neural network model while it is being trained to ensure that it performs to the best of its ability. The loss metric is used by machine learning algorithms to score the performance of the model through each iteration and epoch by evaluating the inaccuracy of a single input. To enhance the performance of our classification neural network, we'll use the adam optimizer, which uses a gradient descent approach to ensure that the algorithm will not get stuck on weaker classifying variables and features. As for the loss function, we'll use binary_crossentropy, which is specifically designed to evaluate a binary classification model.\n",
    "\n",
    "In addition to the optimization function and loss metric, we'll also add a more reader-friendly evaluation metric, which measures the quality of the machine learning model. There are two main types of evaluation metrics—the model predictive accuracy and model mean squared error (MSE). We use accuracy for classification models and msefor regression models. For model predictive accuracy, the higher the number the better, whereas for regression models, MSE should reduce to zero."
   ]
  },
  {
   "cell_type": "code",
   "execution_count": 10,
   "metadata": {
    "scrolled": true
   },
   "outputs": [
    {
     "name": "stdout",
     "output_type": "stream",
     "text": [
      "Epoch 1/100\n",
      "24/24 [==============================] - 0s 451us/step - loss: 0.7607 - accuracy: 0.0867\n",
      "Epoch 2/100\n",
      "24/24 [==============================] - 0s 417us/step - loss: 0.7463 - accuracy: 0.0173\n",
      "Epoch 3/100\n",
      "24/24 [==============================] - 0s 417us/step - loss: 0.7335 - accuracy: 0.0307\n",
      "Epoch 4/100\n",
      "24/24 [==============================] - 0s 417us/step - loss: 0.7224 - accuracy: 0.0627\n",
      "Epoch 5/100\n",
      "24/24 [==============================] - 0s 375us/step - loss: 0.7130 - accuracy: 0.1320\n",
      "Epoch 6/100\n",
      "24/24 [==============================] - 0s 375us/step - loss: 0.7052 - accuracy: 0.2067\n",
      "Epoch 7/100\n",
      "24/24 [==============================] - 0s 375us/step - loss: 0.6995 - accuracy: 0.3307\n",
      "Epoch 8/100\n",
      "24/24 [==============================] - 0s 417us/step - loss: 0.6958 - accuracy: 0.4360\n",
      "Epoch 9/100\n",
      "24/24 [==============================] - 0s 417us/step - loss: 0.6941 - accuracy: 0.4880\n",
      "Epoch 10/100\n",
      "24/24 [==============================] - 0s 417us/step - loss: 0.6935 - accuracy: 0.5027\n",
      "Epoch 11/100\n",
      "24/24 [==============================] - 0s 375us/step - loss: 0.6933 - accuracy: 0.5040\n",
      "Epoch 12/100\n",
      "24/24 [==============================] - 0s 417us/step - loss: 0.6932 - accuracy: 0.5053\n",
      "Epoch 13/100\n",
      "24/24 [==============================] - 0s 417us/step - loss: 0.6932 - accuracy: 0.5053\n",
      "Epoch 14/100\n",
      "24/24 [==============================] - 0s 375us/step - loss: 0.6931 - accuracy: 0.5053\n",
      "Epoch 15/100\n",
      "24/24 [==============================] - 0s 417us/step - loss: 0.6931 - accuracy: 0.5053\n",
      "Epoch 16/100\n",
      "24/24 [==============================] - 0s 417us/step - loss: 0.6931 - accuracy: 0.5053\n",
      "Epoch 17/100\n",
      "24/24 [==============================] - 0s 417us/step - loss: 0.6931 - accuracy: 0.5053\n",
      "Epoch 18/100\n",
      "24/24 [==============================] - 0s 417us/step - loss: 0.6931 - accuracy: 0.5053\n",
      "Epoch 19/100\n",
      "24/24 [==============================] - 0s 417us/step - loss: 0.6931 - accuracy: 0.5053\n",
      "Epoch 20/100\n",
      "24/24 [==============================] - 0s 414us/step - loss: 0.6931 - accuracy: 0.5067\n",
      "Epoch 21/100\n",
      "24/24 [==============================] - 0s 417us/step - loss: 0.6931 - accuracy: 0.5067\n",
      "Epoch 22/100\n",
      "24/24 [==============================] - 0s 417us/step - loss: 0.6931 - accuracy: 0.5067\n",
      "Epoch 23/100\n",
      "24/24 [==============================] - 0s 417us/step - loss: 0.6931 - accuracy: 0.5067\n",
      "Epoch 24/100\n",
      "24/24 [==============================] - 0s 417us/step - loss: 0.6931 - accuracy: 0.5067\n",
      "Epoch 25/100\n",
      "24/24 [==============================] - 0s 417us/step - loss: 0.6931 - accuracy: 0.5067\n",
      "Epoch 26/100\n",
      "24/24 [==============================] - 0s 459us/step - loss: 0.6931 - accuracy: 0.5067\n",
      "Epoch 27/100\n",
      "24/24 [==============================] - 0s 417us/step - loss: 0.6931 - accuracy: 0.5067\n",
      "Epoch 28/100\n",
      "24/24 [==============================] - 0s 459us/step - loss: 0.6931 - accuracy: 0.5067\n",
      "Epoch 29/100\n",
      "24/24 [==============================] - 0s 417us/step - loss: 0.6931 - accuracy: 0.5067\n",
      "Epoch 30/100\n",
      "24/24 [==============================] - 0s 417us/step - loss: 0.6931 - accuracy: 0.5067\n",
      "Epoch 31/100\n",
      "24/24 [==============================] - 0s 417us/step - loss: 0.6931 - accuracy: 0.5067\n",
      "Epoch 32/100\n",
      "24/24 [==============================] - 0s 459us/step - loss: 0.6931 - accuracy: 0.5067\n",
      "Epoch 33/100\n",
      "24/24 [==============================] - 0s 417us/step - loss: 0.6931 - accuracy: 0.5067\n",
      "Epoch 34/100\n",
      "24/24 [==============================] - 0s 417us/step - loss: 0.6931 - accuracy: 0.5067\n",
      "Epoch 35/100\n",
      "24/24 [==============================] - 0s 417us/step - loss: 0.6931 - accuracy: 0.5067\n",
      "Epoch 36/100\n",
      "24/24 [==============================] - 0s 417us/step - loss: 0.6931 - accuracy: 0.5067\n",
      "Epoch 37/100\n",
      "24/24 [==============================] - 0s 417us/step - loss: 0.6931 - accuracy: 0.5067\n",
      "Epoch 38/100\n",
      "24/24 [==============================] - 0s 459us/step - loss: 0.6931 - accuracy: 0.5067\n",
      "Epoch 39/100\n",
      "24/24 [==============================] - 0s 417us/step - loss: 0.6931 - accuracy: 0.5067\n",
      "Epoch 40/100\n",
      "24/24 [==============================] - 0s 459us/step - loss: 0.6931 - accuracy: 0.5067\n",
      "Epoch 41/100\n",
      "24/24 [==============================] - 0s 417us/step - loss: 0.6931 - accuracy: 0.5067\n",
      "Epoch 42/100\n",
      "24/24 [==============================] - 0s 417us/step - loss: 0.6931 - accuracy: 0.5067\n",
      "Epoch 43/100\n",
      "24/24 [==============================] - 0s 417us/step - loss: 0.6931 - accuracy: 0.5067\n",
      "Epoch 44/100\n",
      "24/24 [==============================] - 0s 417us/step - loss: 0.6931 - accuracy: 0.5067\n",
      "Epoch 45/100\n",
      "24/24 [==============================] - 0s 417us/step - loss: 0.6931 - accuracy: 0.5067\n",
      "Epoch 46/100\n",
      "24/24 [==============================] - 0s 417us/step - loss: 0.6931 - accuracy: 0.5067\n",
      "Epoch 47/100\n",
      "24/24 [==============================] - 0s 417us/step - loss: 0.6931 - accuracy: 0.5067\n",
      "Epoch 48/100\n",
      "24/24 [==============================] - 0s 417us/step - loss: 0.6931 - accuracy: 0.5067\n",
      "Epoch 49/100\n",
      "24/24 [==============================] - 0s 417us/step - loss: 0.6931 - accuracy: 0.5067\n",
      "Epoch 50/100\n",
      "24/24 [==============================] - 0s 459us/step - loss: 0.6931 - accuracy: 0.5067\n",
      "Epoch 51/100\n",
      "24/24 [==============================] - 0s 459us/step - loss: 0.6931 - accuracy: 0.5067\n",
      "Epoch 52/100\n",
      "24/24 [==============================] - 0s 417us/step - loss: 0.6931 - accuracy: 0.5067\n",
      "Epoch 53/100\n",
      "24/24 [==============================] - 0s 417us/step - loss: 0.6931 - accuracy: 0.5067\n",
      "Epoch 54/100\n",
      "24/24 [==============================] - 0s 417us/step - loss: 0.6931 - accuracy: 0.5067\n",
      "Epoch 55/100\n",
      "24/24 [==============================] - 0s 417us/step - loss: 0.6931 - accuracy: 0.5067\n",
      "Epoch 56/100\n",
      "24/24 [==============================] - 0s 375us/step - loss: 0.6931 - accuracy: 0.5067\n",
      "Epoch 57/100\n",
      "24/24 [==============================] - 0s 375us/step - loss: 0.6931 - accuracy: 0.5067\n",
      "Epoch 58/100\n",
      "24/24 [==============================] - 0s 392us/step - loss: 0.6931 - accuracy: 0.5067\n",
      "Epoch 59/100\n",
      "24/24 [==============================] - 0s 375us/step - loss: 0.6931 - accuracy: 0.5067\n",
      "Epoch 60/100\n",
      "24/24 [==============================] - 0s 417us/step - loss: 0.6931 - accuracy: 0.5067\n",
      "Epoch 61/100\n",
      "24/24 [==============================] - 0s 375us/step - loss: 0.6931 - accuracy: 0.5067\n",
      "Epoch 62/100\n",
      "24/24 [==============================] - 0s 417us/step - loss: 0.6931 - accuracy: 0.5067\n",
      "Epoch 63/100\n",
      "24/24 [==============================] - 0s 417us/step - loss: 0.6931 - accuracy: 0.5067\n",
      "Epoch 64/100\n",
      "24/24 [==============================] - 0s 417us/step - loss: 0.6931 - accuracy: 0.5067\n",
      "Epoch 65/100\n",
      "24/24 [==============================] - 0s 417us/step - loss: 0.6931 - accuracy: 0.5067\n",
      "Epoch 66/100\n",
      "24/24 [==============================] - 0s 417us/step - loss: 0.6931 - accuracy: 0.5067\n",
      "Epoch 67/100\n",
      "24/24 [==============================] - 0s 459us/step - loss: 0.6931 - accuracy: 0.5067\n",
      "Epoch 68/100\n",
      "24/24 [==============================] - 0s 417us/step - loss: 0.6931 - accuracy: 0.5067\n",
      "Epoch 69/100\n",
      "24/24 [==============================] - 0s 417us/step - loss: 0.6931 - accuracy: 0.5067\n",
      "Epoch 70/100\n",
      "24/24 [==============================] - 0s 375us/step - loss: 0.6931 - accuracy: 0.5067\n",
      "Epoch 71/100\n",
      "24/24 [==============================] - 0s 417us/step - loss: 0.6931 - accuracy: 0.5067\n",
      "Epoch 72/100\n",
      "24/24 [==============================] - 0s 417us/step - loss: 0.6931 - accuracy: 0.5067\n",
      "Epoch 73/100\n",
      "24/24 [==============================] - 0s 417us/step - loss: 0.6931 - accuracy: 0.5067\n",
      "Epoch 74/100\n",
      "24/24 [==============================] - 0s 417us/step - loss: 0.6931 - accuracy: 0.5067\n",
      "Epoch 75/100\n",
      "24/24 [==============================] - 0s 417us/step - loss: 0.6931 - accuracy: 0.5067\n",
      "Epoch 76/100\n",
      "24/24 [==============================] - 0s 459us/step - loss: 0.6931 - accuracy: 0.5067\n",
      "Epoch 77/100\n",
      "24/24 [==============================] - 0s 375us/step - loss: 0.6931 - accuracy: 0.5067\n",
      "Epoch 78/100\n",
      "24/24 [==============================] - 0s 417us/step - loss: 0.6931 - accuracy: 0.5067\n",
      "Epoch 79/100\n",
      "24/24 [==============================] - 0s 375us/step - loss: 0.6931 - accuracy: 0.5067\n",
      "Epoch 80/100\n",
      "24/24 [==============================] - 0s 417us/step - loss: 0.6931 - accuracy: 0.5067\n",
      "Epoch 81/100\n"
     ]
    },
    {
     "name": "stdout",
     "output_type": "stream",
     "text": [
      "24/24 [==============================] - 0s 375us/step - loss: 0.6931 - accuracy: 0.5067\n",
      "Epoch 82/100\n",
      "24/24 [==============================] - 0s 417us/step - loss: 0.6931 - accuracy: 0.5067\n",
      "Epoch 83/100\n",
      "24/24 [==============================] - 0s 417us/step - loss: 0.6931 - accuracy: 0.5067\n",
      "Epoch 84/100\n",
      "24/24 [==============================] - 0s 417us/step - loss: 0.6931 - accuracy: 0.5067\n",
      "Epoch 85/100\n",
      "24/24 [==============================] - 0s 417us/step - loss: 0.6931 - accuracy: 0.5067\n",
      "Epoch 86/100\n",
      "24/24 [==============================] - 0s 417us/step - loss: 0.6931 - accuracy: 0.5067\n",
      "Epoch 87/100\n",
      "24/24 [==============================] - 0s 375us/step - loss: 0.6931 - accuracy: 0.5067\n",
      "Epoch 88/100\n",
      "24/24 [==============================] - 0s 375us/step - loss: 0.6932 - accuracy: 0.5067\n",
      "Epoch 89/100\n",
      "24/24 [==============================] - 0s 375us/step - loss: 0.6931 - accuracy: 0.5067\n",
      "Epoch 90/100\n",
      "24/24 [==============================] - 0s 417us/step - loss: 0.6931 - accuracy: 0.5067\n",
      "Epoch 91/100\n",
      "24/24 [==============================] - 0s 417us/step - loss: 0.6931 - accuracy: 0.5067\n",
      "Epoch 92/100\n",
      "24/24 [==============================] - 0s 417us/step - loss: 0.6931 - accuracy: 0.5067\n",
      "Epoch 93/100\n",
      "24/24 [==============================] - 0s 417us/step - loss: 0.6931 - accuracy: 0.5067\n",
      "Epoch 94/100\n",
      "24/24 [==============================] - 0s 417us/step - loss: 0.6931 - accuracy: 0.5067\n",
      "Epoch 95/100\n",
      "24/24 [==============================] - 0s 417us/step - loss: 0.6931 - accuracy: 0.5067\n",
      "Epoch 96/100\n",
      "24/24 [==============================] - 0s 417us/step - loss: 0.6931 - accuracy: 0.5067\n",
      "Epoch 97/100\n",
      "24/24 [==============================] - ETA: 0s - loss: 0.6932 - accuracy: 0.50 - 0s 417us/step - loss: 0.6931 - accuracy: 0.5067\n",
      "Epoch 98/100\n",
      "24/24 [==============================] - 0s 417us/step - loss: 0.6931 - accuracy: 0.5067\n",
      "Epoch 99/100\n",
      "24/24 [==============================] - 0s 417us/step - loss: 0.6931 - accuracy: 0.5067\n",
      "Epoch 100/100\n",
      "24/24 [==============================] - 0s 417us/step - loss: 0.6931 - accuracy: 0.5067\n"
     ]
    }
   ],
   "source": [
    "# Fit the model to the training data\n",
    "fit_model = nn_model.fit(X_train_scaled, y_train, epochs=100)"
   ]
  },
  {
   "cell_type": "code",
   "execution_count": 11,
   "metadata": {},
   "outputs": [
    {
     "data": {
      "text/plain": [
       "<AxesSubplot:>"
      ]
     },
     "execution_count": 11,
     "metadata": {},
     "output_type": "execute_result"
    },
    {
     "data": {
      "image/png": "[encoded data removed]",
      "text/plain": [
       "<Figure size 432x288 with 1 Axes>"
      ]
     },
     "metadata": {
      "needs_background": "light"
     },
     "output_type": "display_data"
    }
   ],
   "source": [
    "# Create a DataFrame containing training history\n",
    "history_df = pd.DataFrame(fit_model.history, index=range(1,len(fit_model.history[\"loss\"])+1))\n",
    "\n",
    "# Plot the loss\n",
    "history_df.plot(y=\"loss\")"
   ]
  },
  {
   "cell_type": "code",
   "execution_count": 12,
   "metadata": {},
   "outputs": [
    {
     "data": {
      "text/plain": [
       "<AxesSubplot:>"
      ]
     },
     "execution_count": 12,
     "metadata": {},
     "output_type": "execute_result"
    },
    {
     "data": {
      "image/png": "[encoded data removed]",
      "text/plain": [
       "<Figure size 432x288 with 1 Axes>"
      ]
     },
     "metadata": {
      "needs_background": "light"
     },
     "output_type": "display_data"
    }
   ],
   "source": [
    "# Plot the accuracy\n",
    "history_df.plot(y=\"accuracy\")"
   ]
  },
  {
   "cell_type": "code",
   "execution_count": 13,
   "metadata": {},
   "outputs": [
    {
     "name": "stdout",
     "output_type": "stream",
     "text": [
      "8/8 - 0s - loss: 0.6938 - accuracy: 0.4800\n",
      "Loss: 0.6937808990478516, Accuracy: 0.47999998927116394\n"
     ]
    }
   ],
   "source": [
    "# Evaluate the model using the test data\n",
    "model_loss, model_accuracy = nn_model.evaluate(X_test_scaled,y_test,verbose=2)\n",
    "print(f\"Loss: {model_loss}, Accuracy: {model_accuracy}\")"
   ]
  },
  {
   "cell_type": "markdown",
   "metadata": {},
   "source": [
    "Looking at the performance metrics from the model, the neural network was able to correctly classify each of the points in the test data. In other words, the model was able to correctly classify data it was not trained on 100% of the time. Although perfect model performance is ideal, more complex datasets and models may not be able to achieve 100% accuracy. Therefore, it is important to establish model performance thresholds before designing any machine learning model. Depending on the type of data and the use case, we may have to recreate and retrain a model using different parameters, different training/test data, or even look to use a different model entirely.\n",
    "\n",
    "Now that we have a trained neural network model and we have verified its performance using a test dataset, we can apply this model to novel datasets and predict the classification of a data point. In our Sequential model, we can use the predict method to generate predictions on new data. For example, if we wanted to predict the class of a new blob dataset, we can add and run the following code:"
   ]
  },
  {
   "cell_type": "code",
   "execution_count": 14,
   "metadata": {},
   "outputs": [
    {
     "data": {
      "text/plain": [
       "array([[0],\n",
       "       [0],\n",
       "       [0],\n",
       "       [0],\n",
       "       [0],\n",
       "       [0],\n",
       "       [0],\n",
       "       [0],\n",
       "       [0],\n",
       "       [0]])"
      ]
     },
     "execution_count": 14,
     "metadata": {},
     "output_type": "execute_result"
    }
   ],
   "source": [
    "# Predict the classification of a new set of blob data\n",
    "new_X, new_Y = make_blobs(n_samples=10, centers=2, n_features=2, random_state=78)\n",
    "new_X_scaled = X_scaler.transform(new_X)\n",
    "(nn_model.predict(new_X_scaled) > 0.5).astype(\"int32\")"
   ]
  },
  {
   "cell_type": "markdown",
   "metadata": {},
   "source": [
    "Now that we have designed a basic single-neuron, single-layer model, trained the model, and evaluated its performance using a test dataset, we are ready to start testing the limits of the basic neural network. As previously mentioned, simple linear regression and singular perceptron models work really well as a binary classifier when the data is linearly separable. But what about nonlinear data? How does our basic neural network model behave when data becomes more complicated?\n",
    "\n",
    "To test this behavior, let's generate some new dummy data. This time we'll generate some nonlinear moon-shaped data using Scikit-learn's make_moons method and visualize it using Pandas and Matplotlib. Using the same notebook, we'll add and run the following code:"
   ]
  },
  {
   "cell_type": "code",
   "execution_count": 15,
   "metadata": {},
   "outputs": [
    {
     "data": {
      "text/plain": [
       "<AxesSubplot:xlabel='Feature 1', ylabel='Feature 2'>"
      ]
     },
     "execution_count": 15,
     "metadata": {},
     "output_type": "execute_result"
    },
    {
     "data": {
      "image/png": "[encoded data removed]",
      "text/plain": [
       "<Figure size 432x288 with 2 Axes>"
      ]
     },
     "metadata": {
      "needs_background": "light"
     },
     "output_type": "display_data"
    }
   ],
   "source": [
    "from sklearn.datasets import make_moons\n",
    "\n",
    "# Creating dummy nonlinear data\n",
    "X_moons, y_moons = make_moons(n_samples=1000, noise=0.08, random_state=78)\n",
    "\n",
    "# Transforming y_moons to a vertical vector\n",
    "y_moons = y_moons.reshape(-1, 1)\n",
    "\n",
    "# Creating a DataFrame to plot the nonlinear dummy data\n",
    "df_moons = pd.DataFrame(X_moons, columns=[\"Feature 1\", \"Feature 2\"])\n",
    "df_moons[\"Target\"] = y_moons\n",
    "\n",
    "# Plot the nonlinear dummy data\n",
    "df_moons.plot.scatter(x=\"Feature 1\",y=\"Feature 2\", c=\"Target\",colormap=\"summer\")"
   ]
  },
  {
   "cell_type": "code",
   "execution_count": 16,
   "metadata": {},
   "outputs": [],
   "source": [
    "# Create training and testing sets\n",
    "X_moon_train, X_moon_test, y_moon_train, y_moon_test = train_test_split(\n",
    "    X_moons, y_moons, random_state=78\n",
    ")\n",
    "\n",
    "# Create the scaler instance\n",
    "X_moon_scaler = skl.preprocessing.StandardScaler()\n",
    "\n",
    "# Fit the scaler\n",
    "X_moon_scaler.fit(X_moon_train)\n",
    "\n",
    "# Scale the data\n",
    "X_moon_train_scaled = X_moon_scaler.transform(X_moon_train)\n",
    "X_moon_test_scaled = X_moon_scaler.transform(X_moon_test)"
   ]
  },
  {
   "cell_type": "code",
   "execution_count": 17,
   "metadata": {},
   "outputs": [
    {
     "name": "stdout",
     "output_type": "stream",
     "text": [
      "Epoch 1/100\n",
      "24/24 [==============================] - 0s 626us/step - loss: 0.6924 - accuracy: 0.5307\n",
      "Epoch 2/100\n",
      "24/24 [==============================] - 0s 584us/step - loss: 0.6923 - accuracy: 0.5307\n",
      "Epoch 3/100\n",
      "24/24 [==============================] - 0s 584us/step - loss: 0.6922 - accuracy: 0.5307\n",
      "Epoch 4/100\n",
      "24/24 [==============================] - 0s 584us/step - loss: 0.6920 - accuracy: 0.5307\n",
      "Epoch 5/100\n",
      "24/24 [==============================] - 0s 626us/step - loss: 0.6919 - accuracy: 0.5307\n",
      "Epoch 6/100\n",
      "24/24 [==============================] - 0s 584us/step - loss: 0.6918 - accuracy: 0.5307\n",
      "Epoch 7/100\n",
      "24/24 [==============================] - 0s 542us/step - loss: 0.6918 - accuracy: 0.5307\n",
      "Epoch 8/100\n",
      "24/24 [==============================] - 0s 626us/step - loss: 0.6917 - accuracy: 0.5307\n",
      "Epoch 9/100\n",
      "24/24 [==============================] - 0s 626us/step - loss: 0.6916 - accuracy: 0.5307\n",
      "Epoch 10/100\n",
      "24/24 [==============================] - 0s 626us/step - loss: 0.6916 - accuracy: 0.5307\n",
      "Epoch 11/100\n",
      "24/24 [==============================] - 0s 626us/step - loss: 0.6915 - accuracy: 0.5307\n",
      "Epoch 12/100\n",
      "24/24 [==============================] - 0s 626us/step - loss: 0.6915 - accuracy: 0.5307\n",
      "Epoch 13/100\n",
      "24/24 [==============================] - 0s 584us/step - loss: 0.6915 - accuracy: 0.5307\n",
      "Epoch 14/100\n",
      "24/24 [==============================] - 0s 626us/step - loss: 0.6914 - accuracy: 0.5307\n",
      "Epoch 15/100\n",
      "24/24 [==============================] - 0s 542us/step - loss: 0.6915 - accuracy: 0.5307\n",
      "Epoch 16/100\n",
      "24/24 [==============================] - 0s 584us/step - loss: 0.6914 - accuracy: 0.5307\n",
      "Epoch 17/100\n",
      "24/24 [==============================] - 0s 626us/step - loss: 0.6914 - accuracy: 0.5307\n",
      "Epoch 18/100\n",
      "24/24 [==============================] - 0s 626us/step - loss: 0.6914 - accuracy: 0.5307\n",
      "Epoch 19/100\n",
      "24/24 [==============================] - 0s 542us/step - loss: 0.6914 - accuracy: 0.5307\n",
      "Epoch 20/100\n",
      "24/24 [==============================] - 0s 626us/step - loss: 0.6914 - accuracy: 0.5307\n",
      "Epoch 21/100\n",
      "24/24 [==============================] - 0s 584us/step - loss: 0.6914 - accuracy: 0.5307\n",
      "Epoch 22/100\n",
      "24/24 [==============================] - 0s 584us/step - loss: 0.6913 - accuracy: 0.5307\n",
      "Epoch 23/100\n",
      "24/24 [==============================] - 0s 584us/step - loss: 0.6914 - accuracy: 0.5307\n",
      "Epoch 24/100\n",
      "24/24 [==============================] - 0s 584us/step - loss: 0.6913 - accuracy: 0.5307\n",
      "Epoch 25/100\n",
      "24/24 [==============================] - 0s 626us/step - loss: 0.6913 - accuracy: 0.5307\n",
      "Epoch 26/100\n",
      "24/24 [==============================] - 0s 626us/step - loss: 0.6913 - accuracy: 0.5307\n",
      "Epoch 27/100\n",
      "24/24 [==============================] - 0s 584us/step - loss: 0.6913 - accuracy: 0.5307\n",
      "Epoch 28/100\n",
      "24/24 [==============================] - 0s 626us/step - loss: 0.6913 - accuracy: 0.5307\n",
      "Epoch 29/100\n",
      "24/24 [==============================] - 0s 584us/step - loss: 0.6913 - accuracy: 0.5307\n",
      "Epoch 30/100\n",
      "24/24 [==============================] - 0s 626us/step - loss: 0.6914 - accuracy: 0.5307\n",
      "Epoch 31/100\n",
      "24/24 [==============================] - 0s 584us/step - loss: 0.6913 - accuracy: 0.5307\n",
      "Epoch 32/100\n",
      "24/24 [==============================] - 0s 626us/step - loss: 0.6913 - accuracy: 0.5307\n",
      "Epoch 33/100\n",
      "24/24 [==============================] - 0s 584us/step - loss: 0.6913 - accuracy: 0.5307\n",
      "Epoch 34/100\n",
      "24/24 [==============================] - 0s 584us/step - loss: 0.6913 - accuracy: 0.5307\n",
      "Epoch 35/100\n",
      "24/24 [==============================] - 0s 626us/step - loss: 0.6913 - accuracy: 0.5307\n",
      "Epoch 36/100\n",
      "24/24 [==============================] - 0s 584us/step - loss: 0.6913 - accuracy: 0.5307\n",
      "Epoch 37/100\n",
      "24/24 [==============================] - 0s 625us/step - loss: 0.6913 - accuracy: 0.5307\n",
      "Epoch 38/100\n",
      "24/24 [==============================] - 0s 584us/step - loss: 0.6913 - accuracy: 0.5307\n",
      "Epoch 39/100\n",
      "24/24 [==============================] - 0s 584us/step - loss: 0.6913 - accuracy: 0.5307\n",
      "Epoch 40/100\n",
      "24/24 [==============================] - 0s 626us/step - loss: 0.6913 - accuracy: 0.5307\n",
      "Epoch 41/100\n",
      "24/24 [==============================] - 0s 584us/step - loss: 0.6913 - accuracy: 0.5307\n",
      "Epoch 42/100\n",
      "24/24 [==============================] - 0s 626us/step - loss: 0.6913 - accuracy: 0.5307\n",
      "Epoch 43/100\n",
      "24/24 [==============================] - 0s 584us/step - loss: 0.6913 - accuracy: 0.5307\n",
      "Epoch 44/100\n",
      "24/24 [==============================] - 0s 584us/step - loss: 0.6913 - accuracy: 0.5307\n",
      "Epoch 45/100\n",
      "24/24 [==============================] - 0s 584us/step - loss: 0.6913 - accuracy: 0.5307\n",
      "Epoch 46/100\n",
      "24/24 [==============================] - 0s 626us/step - loss: 0.6913 - accuracy: 0.5307\n",
      "Epoch 47/100\n",
      "24/24 [==============================] - 0s 584us/step - loss: 0.6913 - accuracy: 0.5307\n",
      "Epoch 48/100\n",
      "24/24 [==============================] - 0s 584us/step - loss: 0.6913 - accuracy: 0.5307\n",
      "Epoch 49/100\n",
      "24/24 [==============================] - 0s 542us/step - loss: 0.6913 - accuracy: 0.5307\n",
      "Epoch 50/100\n",
      "24/24 [==============================] - 0s 584us/step - loss: 0.6913 - accuracy: 0.5307\n",
      "Epoch 51/100\n",
      "24/24 [==============================] - 0s 542us/step - loss: 0.6913 - accuracy: 0.5307\n",
      "Epoch 52/100\n",
      "24/24 [==============================] - 0s 584us/step - loss: 0.6913 - accuracy: 0.5307\n",
      "Epoch 53/100\n",
      "24/24 [==============================] - 0s 542us/step - loss: 0.6913 - accuracy: 0.5307\n",
      "Epoch 54/100\n",
      "24/24 [==============================] - 0s 584us/step - loss: 0.6913 - accuracy: 0.5307\n",
      "Epoch 55/100\n",
      "24/24 [==============================] - 0s 584us/step - loss: 0.6913 - accuracy: 0.5307\n",
      "Epoch 56/100\n",
      "24/24 [==============================] - 0s 542us/step - loss: 0.6913 - accuracy: 0.5307\n",
      "Epoch 57/100\n",
      "24/24 [==============================] - 0s 584us/step - loss: 0.6913 - accuracy: 0.5307\n",
      "Epoch 58/100\n",
      "24/24 [==============================] - 0s 626us/step - loss: 0.6913 - accuracy: 0.5307\n",
      "Epoch 59/100\n",
      "24/24 [==============================] - 0s 584us/step - loss: 0.6913 - accuracy: 0.5307\n",
      "Epoch 60/100\n",
      "24/24 [==============================] - 0s 626us/step - loss: 0.6913 - accuracy: 0.5307\n",
      "Epoch 61/100\n",
      "24/24 [==============================] - 0s 584us/step - loss: 0.6913 - accuracy: 0.5307\n",
      "Epoch 62/100\n",
      "24/24 [==============================] - 0s 626us/step - loss: 0.6913 - accuracy: 0.5307\n",
      "Epoch 63/100\n",
      "24/24 [==============================] - 0s 584us/step - loss: 0.6913 - accuracy: 0.5307\n",
      "Epoch 64/100\n",
      "24/24 [==============================] - 0s 584us/step - loss: 0.6914 - accuracy: 0.5307\n",
      "Epoch 65/100\n",
      "24/24 [==============================] - 0s 584us/step - loss: 0.6913 - accuracy: 0.5307\n",
      "Epoch 66/100\n",
      "24/24 [==============================] - 0s 584us/step - loss: 0.6913 - accuracy: 0.5307\n",
      "Epoch 67/100\n",
      "24/24 [==============================] - 0s 584us/step - loss: 0.6913 - accuracy: 0.5307\n",
      "Epoch 68/100\n",
      "24/24 [==============================] - 0s 626us/step - loss: 0.6913 - accuracy: 0.5307\n",
      "Epoch 69/100\n",
      "24/24 [==============================] - 0s 584us/step - loss: 0.6913 - accuracy: 0.5307\n",
      "Epoch 70/100\n",
      "24/24 [==============================] - 0s 584us/step - loss: 0.6913 - accuracy: 0.5307\n",
      "Epoch 71/100\n",
      "24/24 [==============================] - 0s 584us/step - loss: 0.6913 - accuracy: 0.5307\n",
      "Epoch 72/100\n",
      "24/24 [==============================] - 0s 584us/step - loss: 0.6913 - accuracy: 0.5307\n",
      "Epoch 73/100\n",
      "24/24 [==============================] - 0s 584us/step - loss: 0.6913 - accuracy: 0.5307\n",
      "Epoch 74/100\n",
      "24/24 [==============================] - 0s 584us/step - loss: 0.6913 - accuracy: 0.5307\n",
      "Epoch 75/100\n",
      "24/24 [==============================] - 0s 584us/step - loss: 0.6913 - accuracy: 0.5307\n",
      "Epoch 76/100\n",
      "24/24 [==============================] - 0s 584us/step - loss: 0.6913 - accuracy: 0.5307\n",
      "Epoch 77/100\n",
      "24/24 [==============================] - 0s 584us/step - loss: 0.6913 - accuracy: 0.5307\n",
      "Epoch 78/100\n",
      "24/24 [==============================] - 0s 626us/step - loss: 0.6913 - accuracy: 0.5307\n",
      "Epoch 79/100\n",
      "24/24 [==============================] - 0s 626us/step - loss: 0.6913 - accuracy: 0.5307\n",
      "Epoch 80/100\n",
      "24/24 [==============================] - 0s 584us/step - loss: 0.6913 - accuracy: 0.5307\n",
      "Epoch 81/100\n"
     ]
    },
    {
     "name": "stdout",
     "output_type": "stream",
     "text": [
      "24/24 [==============================] - 0s 626us/step - loss: 0.6913 - accuracy: 0.5307\n",
      "Epoch 82/100\n",
      "24/24 [==============================] - 0s 626us/step - loss: 0.6913 - accuracy: 0.5307\n",
      "Epoch 83/100\n",
      "24/24 [==============================] - 0s 584us/step - loss: 0.6913 - accuracy: 0.5307\n",
      "Epoch 84/100\n",
      "24/24 [==============================] - 0s 584us/step - loss: 0.6913 - accuracy: 0.5307\n",
      "Epoch 85/100\n",
      "24/24 [==============================] - 0s 584us/step - loss: 0.6913 - accuracy: 0.5307\n",
      "Epoch 86/100\n",
      "24/24 [==============================] - 0s 584us/step - loss: 0.6913 - accuracy: 0.5307\n",
      "Epoch 87/100\n",
      "24/24 [==============================] - 0s 584us/step - loss: 0.6913 - accuracy: 0.5307\n",
      "Epoch 88/100\n",
      "24/24 [==============================] - 0s 542us/step - loss: 0.6913 - accuracy: 0.5307\n",
      "Epoch 89/100\n",
      "24/24 [==============================] - 0s 584us/step - loss: 0.6913 - accuracy: 0.5307\n",
      "Epoch 90/100\n",
      "24/24 [==============================] - 0s 584us/step - loss: 0.6913 - accuracy: 0.5307\n",
      "Epoch 91/100\n",
      "24/24 [==============================] - 0s 626us/step - loss: 0.6913 - accuracy: 0.5307\n",
      "Epoch 92/100\n",
      "24/24 [==============================] - 0s 584us/step - loss: 0.6913 - accuracy: 0.5307\n",
      "Epoch 93/100\n",
      "24/24 [==============================] - 0s 584us/step - loss: 0.6913 - accuracy: 0.5307\n",
      "Epoch 94/100\n",
      "24/24 [==============================] - 0s 584us/step - loss: 0.6913 - accuracy: 0.5307\n",
      "Epoch 95/100\n",
      "24/24 [==============================] - 0s 584us/step - loss: 0.6913 - accuracy: 0.5307\n",
      "Epoch 96/100\n",
      "24/24 [==============================] - 0s 626us/step - loss: 0.6913 - accuracy: 0.5307\n",
      "Epoch 97/100\n",
      "24/24 [==============================] - 0s 584us/step - loss: 0.6913 - accuracy: 0.5307\n",
      "Epoch 98/100\n",
      "24/24 [==============================] - 0s 626us/step - loss: 0.6913 - accuracy: 0.5307\n",
      "Epoch 99/100\n",
      "24/24 [==============================] - 0s 542us/step - loss: 0.6913 - accuracy: 0.5307\n",
      "Epoch 100/100\n",
      "24/24 [==============================] - 0s 584us/step - loss: 0.6913 - accuracy: 0.5307\n"
     ]
    }
   ],
   "source": [
    "# Training the model with the nonlinear data\n",
    "model_moon = nn_model.fit(X_moon_train_scaled, y_moon_train, epochs=100, shuffle=True)"
   ]
  },
  {
   "cell_type": "code",
   "execution_count": 18,
   "metadata": {},
   "outputs": [
    {
     "data": {
      "text/plain": [
       "<AxesSubplot:>"
      ]
     },
     "execution_count": 18,
     "metadata": {},
     "output_type": "execute_result"
    },
    {
     "data": {
      "image/png": "[encoded data removed]",
      "text/plain": [
       "<Figure size 432x288 with 1 Axes>"
      ]
     },
     "metadata": {
      "needs_background": "light"
     },
     "output_type": "display_data"
    }
   ],
   "source": [
    "# Create a DataFrame containing training history\n",
    "history_df = pd.DataFrame(model_moon.history, index=range(1,len(model_moon.history[\"loss\"])+1))\n",
    "\n",
    "# Plot the loss\n",
    "history_df.plot(y=\"loss\")"
   ]
  },
  {
   "cell_type": "code",
   "execution_count": 19,
   "metadata": {},
   "outputs": [
    {
     "data": {
      "text/plain": [
       "<AxesSubplot:>"
      ]
     },
     "execution_count": 19,
     "metadata": {},
     "output_type": "execute_result"
    },
    {
     "data": {
      "image/png": "[encoded data removed]",
      "text/plain": [
       "<Figure size 432x288 with 1 Axes>"
      ]
     },
     "metadata": {
      "needs_background": "light"
     },
     "output_type": "display_data"
    }
   ],
   "source": [
    "# Plot the loss\n",
    "history_df.plot(y=\"accuracy\")"
   ]
  },
  {
   "cell_type": "markdown",
   "metadata": {},
   "source": [
    "According to the accuracy metric, the basic single-neuron, single-layer neural network model was only able to correctly classify 89% of all data points in the nonlinear training data. Depending on a person's use case, 89% accuracy could be sufficient for a first-pass model. For example, if we were trying to use a neural network model to separate left-handed people from right-handed people, a model that is correct 89% of the time is very accurate, and guessing incorrectly does not have a huge negative impact.\n",
    "\n",
    "However, in many industrial and medical use cases, a model's classification accuracy must exceed 95% or even 99%. In these cases, we wouldn't be satisfied with the basic single-neuron, single-layer neural network model, and we would have to design a more robust neural network. In summary, the more complicated and nonlinear the dataset, the more components we'd need to add to a neural network to achieve our desired performance.\n",
    "\n",
    "adding neurons to a neural network can help to generate a well-performing model faster than using a single-neuron, single-layer neural network. In fact, there are multiple advantages to adding neurons to our hidden layer in a neural network. Some of the advantages follow:\n",
    "\n",
    "There is a distributed effort to find optimal weights—faster.\n",
    "Each neuron can focus on different features to identify nonlinear effects—smarter.\n",
    "It is less likely to fixate on complex variables—more robust.\n",
    "So, if adding more neurons to our neural network model increases the performance, why wouldn't we always use the maximum number of neurons? There are two main reasons to limit the number of neurons in a neural network model: overfitting and computation resources. Similar to other machine learning algorithms, neural networks are susceptible to overfitting where the model fits the training data too well. As a result of overfitting, the neural network will not generalize well and won't be able to classify new data correctly. Additionally, a neural network model with a large number of neurons requires equally large training dataset—training a large neural network requires more data, more epochs, and more time. Therefore, it is important that a neural network model has an appropriate number of neurons to match the size of the data, the complexity of the problem, and the amount of input neurons.\n",
    "\n",
    "A good rule of thumb for a basic neural network is to have two to three times the amount of neurons in the hidden layer as the number of inputs."
   ]
  },
  {
   "cell_type": "code",
   "execution_count": 20,
   "metadata": {},
   "outputs": [],
   "source": [
    "# Generate our new Sequential model\n",
    "new_model = tf.keras.models.Sequential()"
   ]
  },
  {
   "cell_type": "code",
   "execution_count": 21,
   "metadata": {},
   "outputs": [],
   "source": [
    "# Add the input and hidden layer\n",
    "number_inputs = 2\n",
    "number_hidden_nodes = 6\n",
    "\n",
    "new_model.add(tf.keras.layers.Dense(units=number_hidden_nodes, activation=\"relu\", input_dim=number_inputs))\n",
    "\n",
    "# Add the output layer that uses a probability activation function\n",
    "new_model.add(tf.keras.layers.Dense(units=1, activation=\"sigmoid\"))"
   ]
  },
  {
   "cell_type": "code",
   "execution_count": 22,
   "metadata": {},
   "outputs": [
    {
     "name": "stdout",
     "output_type": "stream",
     "text": [
      "Epoch 1/100\n",
      "24/24 [==============================] - 0s 459us/step - loss: 0.6885 - accuracy: 0.5733\n",
      "Epoch 2/100\n",
      "24/24 [==============================] - 0s 417us/step - loss: 0.6505 - accuracy: 0.7107\n",
      "Epoch 3/100\n",
      "24/24 [==============================] - 0s 459us/step - loss: 0.6158 - accuracy: 0.7987\n",
      "Epoch 4/100\n",
      "24/24 [==============================] - 0s 459us/step - loss: 0.5830 - accuracy: 0.8427\n",
      "Epoch 5/100\n",
      "24/24 [==============================] - 0s 417us/step - loss: 0.5533 - accuracy: 0.8587\n",
      "Epoch 6/100\n",
      "24/24 [==============================] - 0s 459us/step - loss: 0.5261 - accuracy: 0.8653\n",
      "Epoch 7/100\n",
      "24/24 [==============================] - 0s 417us/step - loss: 0.5006 - accuracy: 0.8747\n",
      "Epoch 8/100\n",
      "24/24 [==============================] - 0s 459us/step - loss: 0.4777 - accuracy: 0.8867\n",
      "Epoch 9/100\n",
      "24/24 [==============================] - 0s 417us/step - loss: 0.4567 - accuracy: 0.8933\n",
      "Epoch 10/100\n",
      "24/24 [==============================] - 0s 417us/step - loss: 0.4375 - accuracy: 0.9000\n",
      "Epoch 11/100\n",
      "24/24 [==============================] - 0s 417us/step - loss: 0.4202 - accuracy: 0.9013\n",
      "Epoch 12/100\n",
      "24/24 [==============================] - 0s 417us/step - loss: 0.4039 - accuracy: 0.9040\n",
      "Epoch 13/100\n",
      "24/24 [==============================] - 0s 459us/step - loss: 0.3894 - accuracy: 0.9027\n",
      "Epoch 14/100\n",
      "24/24 [==============================] - 0s 459us/step - loss: 0.3760 - accuracy: 0.9040\n",
      "Epoch 15/100\n",
      "24/24 [==============================] - 0s 459us/step - loss: 0.3639 - accuracy: 0.9040\n",
      "Epoch 16/100\n",
      "24/24 [==============================] - 0s 459us/step - loss: 0.3528 - accuracy: 0.9040\n",
      "Epoch 17/100\n",
      "24/24 [==============================] - 0s 459us/step - loss: 0.3427 - accuracy: 0.9040\n",
      "Epoch 18/100\n",
      "24/24 [==============================] - 0s 459us/step - loss: 0.3335 - accuracy: 0.9027\n",
      "Epoch 19/100\n",
      "24/24 [==============================] - 0s 459us/step - loss: 0.3251 - accuracy: 0.9013\n",
      "Epoch 20/100\n",
      "24/24 [==============================] - 0s 459us/step - loss: 0.3173 - accuracy: 0.9027\n",
      "Epoch 21/100\n",
      "24/24 [==============================] - 0s 500us/step - loss: 0.3103 - accuracy: 0.9027\n",
      "Epoch 22/100\n",
      "24/24 [==============================] - 0s 459us/step - loss: 0.3039 - accuracy: 0.9040\n",
      "Epoch 23/100\n",
      "24/24 [==============================] - 0s 459us/step - loss: 0.2980 - accuracy: 0.9040\n",
      "Epoch 24/100\n",
      "24/24 [==============================] - 0s 417us/step - loss: 0.2925 - accuracy: 0.9040\n",
      "Epoch 25/100\n",
      "24/24 [==============================] - 0s 459us/step - loss: 0.2876 - accuracy: 0.9040\n",
      "Epoch 26/100\n",
      "24/24 [==============================] - 0s 417us/step - loss: 0.2830 - accuracy: 0.9027\n",
      "Epoch 27/100\n",
      "24/24 [==============================] - 0s 459us/step - loss: 0.2786 - accuracy: 0.9040\n",
      "Epoch 28/100\n",
      "24/24 [==============================] - 0s 417us/step - loss: 0.2744 - accuracy: 0.9053\n",
      "Epoch 29/100\n",
      "24/24 [==============================] - 0s 459us/step - loss: 0.2706 - accuracy: 0.9053\n",
      "Epoch 30/100\n",
      "24/24 [==============================] - 0s 417us/step - loss: 0.2669 - accuracy: 0.9067\n",
      "Epoch 31/100\n",
      "24/24 [==============================] - 0s 459us/step - loss: 0.2637 - accuracy: 0.9093\n",
      "Epoch 32/100\n",
      "24/24 [==============================] - 0s 459us/step - loss: 0.2607 - accuracy: 0.9093\n",
      "Epoch 33/100\n",
      "24/24 [==============================] - 0s 417us/step - loss: 0.2579 - accuracy: 0.9093\n",
      "Epoch 34/100\n",
      "24/24 [==============================] - 0s 417us/step - loss: 0.2552 - accuracy: 0.9093\n",
      "Epoch 35/100\n",
      "24/24 [==============================] - 0s 459us/step - loss: 0.2526 - accuracy: 0.9107\n",
      "Epoch 36/100\n",
      "24/24 [==============================] - 0s 459us/step - loss: 0.2502 - accuracy: 0.9107\n",
      "Epoch 37/100\n",
      "24/24 [==============================] - 0s 417us/step - loss: 0.2482 - accuracy: 0.9093\n",
      "Epoch 38/100\n",
      "24/24 [==============================] - 0s 417us/step - loss: 0.2460 - accuracy: 0.9107\n",
      "Epoch 39/100\n",
      "24/24 [==============================] - 0s 417us/step - loss: 0.2441 - accuracy: 0.9093\n",
      "Epoch 40/100\n",
      "24/24 [==============================] - 0s 459us/step - loss: 0.2423 - accuracy: 0.9080\n",
      "Epoch 41/100\n",
      "24/24 [==============================] - 0s 459us/step - loss: 0.2407 - accuracy: 0.9080\n",
      "Epoch 42/100\n",
      "24/24 [==============================] - 0s 459us/step - loss: 0.2391 - accuracy: 0.9067\n",
      "Epoch 43/100\n",
      "24/24 [==============================] - 0s 417us/step - loss: 0.2375 - accuracy: 0.9080\n",
      "Epoch 44/100\n",
      "24/24 [==============================] - 0s 459us/step - loss: 0.2361 - accuracy: 0.9080\n",
      "Epoch 45/100\n",
      "24/24 [==============================] - 0s 417us/step - loss: 0.2349 - accuracy: 0.9067\n",
      "Epoch 46/100\n",
      "24/24 [==============================] - 0s 459us/step - loss: 0.2337 - accuracy: 0.9067\n",
      "Epoch 47/100\n",
      "24/24 [==============================] - 0s 417us/step - loss: 0.2324 - accuracy: 0.9067\n",
      "Epoch 48/100\n",
      "24/24 [==============================] - 0s 417us/step - loss: 0.2314 - accuracy: 0.9067\n",
      "Epoch 49/100\n",
      "24/24 [==============================] - 0s 459us/step - loss: 0.2303 - accuracy: 0.9053\n",
      "Epoch 50/100\n",
      "24/24 [==============================] - 0s 417us/step - loss: 0.2295 - accuracy: 0.9053\n",
      "Epoch 51/100\n",
      "24/24 [==============================] - 0s 459us/step - loss: 0.2284 - accuracy: 0.9067\n",
      "Epoch 52/100\n",
      "24/24 [==============================] - 0s 417us/step - loss: 0.2275 - accuracy: 0.9067\n",
      "Epoch 53/100\n",
      "24/24 [==============================] - 0s 459us/step - loss: 0.2265 - accuracy: 0.9067\n",
      "Epoch 54/100\n",
      "24/24 [==============================] - 0s 459us/step - loss: 0.2256 - accuracy: 0.9080\n",
      "Epoch 55/100\n",
      "24/24 [==============================] - 0s 459us/step - loss: 0.2246 - accuracy: 0.9080\n",
      "Epoch 56/100\n",
      "24/24 [==============================] - 0s 417us/step - loss: 0.2237 - accuracy: 0.9093\n",
      "Epoch 57/100\n",
      "24/24 [==============================] - 0s 459us/step - loss: 0.2229 - accuracy: 0.9093\n",
      "Epoch 58/100\n",
      "24/24 [==============================] - 0s 500us/step - loss: 0.2221 - accuracy: 0.9120\n",
      "Epoch 59/100\n",
      "24/24 [==============================] - 0s 417us/step - loss: 0.2212 - accuracy: 0.9120\n",
      "Epoch 60/100\n",
      "24/24 [==============================] - 0s 417us/step - loss: 0.2204 - accuracy: 0.9120\n",
      "Epoch 61/100\n",
      "24/24 [==============================] - 0s 417us/step - loss: 0.2195 - accuracy: 0.9120\n",
      "Epoch 62/100\n",
      "24/24 [==============================] - 0s 417us/step - loss: 0.2187 - accuracy: 0.9120\n",
      "Epoch 63/100\n",
      "24/24 [==============================] - 0s 459us/step - loss: 0.2178 - accuracy: 0.9120\n",
      "Epoch 64/100\n",
      "24/24 [==============================] - 0s 417us/step - loss: 0.2169 - accuracy: 0.9120\n",
      "Epoch 65/100\n",
      "24/24 [==============================] - 0s 417us/step - loss: 0.2161 - accuracy: 0.9133\n",
      "Epoch 66/100\n",
      "24/24 [==============================] - 0s 417us/step - loss: 0.2153 - accuracy: 0.9133\n",
      "Epoch 67/100\n",
      "24/24 [==============================] - 0s 459us/step - loss: 0.2145 - accuracy: 0.9133\n",
      "Epoch 68/100\n",
      "24/24 [==============================] - 0s 459us/step - loss: 0.2135 - accuracy: 0.9133\n",
      "Epoch 69/100\n",
      "24/24 [==============================] - 0s 459us/step - loss: 0.2125 - accuracy: 0.9133\n",
      "Epoch 70/100\n",
      "24/24 [==============================] - 0s 459us/step - loss: 0.2116 - accuracy: 0.9133\n",
      "Epoch 71/100\n",
      "24/24 [==============================] - 0s 417us/step - loss: 0.2108 - accuracy: 0.9133\n",
      "Epoch 72/100\n",
      "24/24 [==============================] - 0s 417us/step - loss: 0.2101 - accuracy: 0.9133\n",
      "Epoch 73/100\n",
      "24/24 [==============================] - 0s 417us/step - loss: 0.2091 - accuracy: 0.9133\n",
      "Epoch 74/100\n",
      "24/24 [==============================] - 0s 417us/step - loss: 0.2082 - accuracy: 0.9133\n",
      "Epoch 75/100\n",
      "24/24 [==============================] - 0s 459us/step - loss: 0.2074 - accuracy: 0.9133\n",
      "Epoch 76/100\n",
      "24/24 [==============================] - 0s 459us/step - loss: 0.2065 - accuracy: 0.9133\n",
      "Epoch 77/100\n",
      "24/24 [==============================] - 0s 417us/step - loss: 0.2056 - accuracy: 0.9133\n",
      "Epoch 78/100\n",
      "24/24 [==============================] - 0s 417us/step - loss: 0.2048 - accuracy: 0.9133\n",
      "Epoch 79/100\n",
      "24/24 [==============================] - ETA: 0s - loss: 0.1518 - accuracy: 0.93 - 0s 459us/step - loss: 0.2039 - accuracy: 0.9147\n",
      "Epoch 80/100\n",
      "24/24 [==============================] - 0s 459us/step - loss: 0.2029 - accuracy: 0.9147\n"
     ]
    },
    {
     "name": "stdout",
     "output_type": "stream",
     "text": [
      "Epoch 81/100\n",
      "24/24 [==============================] - 0s 459us/step - loss: 0.2020 - accuracy: 0.9147\n",
      "Epoch 82/100\n",
      "24/24 [==============================] - 0s 417us/step - loss: 0.2013 - accuracy: 0.9147\n",
      "Epoch 83/100\n",
      "24/24 [==============================] - 0s 459us/step - loss: 0.2003 - accuracy: 0.9147\n",
      "Epoch 84/100\n",
      "24/24 [==============================] - 0s 417us/step - loss: 0.1994 - accuracy: 0.9147\n",
      "Epoch 85/100\n",
      "24/24 [==============================] - 0s 417us/step - loss: 0.1984 - accuracy: 0.9147\n",
      "Epoch 86/100\n",
      "24/24 [==============================] - 0s 417us/step - loss: 0.1976 - accuracy: 0.9160\n",
      "Epoch 87/100\n",
      "24/24 [==============================] - 0s 375us/step - loss: 0.1965 - accuracy: 0.9160\n",
      "Epoch 88/100\n",
      "24/24 [==============================] - 0s 417us/step - loss: 0.1957 - accuracy: 0.9173\n",
      "Epoch 89/100\n",
      "24/24 [==============================] - 0s 459us/step - loss: 0.1947 - accuracy: 0.9173\n",
      "Epoch 90/100\n",
      "24/24 [==============================] - 0s 459us/step - loss: 0.1937 - accuracy: 0.9187\n",
      "Epoch 91/100\n",
      "24/24 [==============================] - 0s 417us/step - loss: 0.1927 - accuracy: 0.9187\n",
      "Epoch 92/100\n",
      "24/24 [==============================] - 0s 417us/step - loss: 0.1918 - accuracy: 0.9200\n",
      "Epoch 93/100\n",
      "24/24 [==============================] - 0s 459us/step - loss: 0.1909 - accuracy: 0.9200\n",
      "Epoch 94/100\n",
      "24/24 [==============================] - 0s 459us/step - loss: 0.1901 - accuracy: 0.9200\n",
      "Epoch 95/100\n",
      "24/24 [==============================] - 0s 417us/step - loss: 0.1889 - accuracy: 0.9213\n",
      "Epoch 96/100\n",
      "24/24 [==============================] - 0s 459us/step - loss: 0.1879 - accuracy: 0.9213\n",
      "Epoch 97/100\n",
      "24/24 [==============================] - 0s 459us/step - loss: 0.1870 - accuracy: 0.9213\n",
      "Epoch 98/100\n",
      "24/24 [==============================] - 0s 417us/step - loss: 0.1860 - accuracy: 0.9213\n",
      "Epoch 99/100\n",
      "24/24 [==============================] - 0s 459us/step - loss: 0.1849 - accuracy: 0.9213\n",
      "Epoch 100/100\n",
      "24/24 [==============================] - 0s 417us/step - loss: 0.1840 - accuracy: 0.9213\n"
     ]
    }
   ],
   "source": [
    "# Compile the Sequential model together and customize metrics\n",
    "new_model.compile(loss=\"binary_crossentropy\", optimizer=\"adam\", metrics=[\"accuracy\"])\n",
    "\n",
    "# Fit the model to the training data\n",
    "new_fit_model = new_model.fit(X_moon_train_scaled, y_moon_train, epochs=100, shuffle=True)"
   ]
  },
  {
   "cell_type": "markdown",
   "metadata": {},
   "source": [
    "Looking at the training metrics of our new model, as we increase the number of neurons within the hidden layer, the classification accuracy improves. You may have noticed that adding multiple neurons to our neural network did not yield a perfect classification model. As input data becomes more complex, neural networks will require more and more optimization tweaks to achieve their desired accuracy."
   ]
  }
 ],
 "metadata": {
  "kernelspec": {
   "display_name": "Python 3",
   "language": "python",
   "name": "python3"
  },
  "language_info": {
   "codemirror_mode": {
    "name": "ipython",
    "version": 3
   },
   "file_extension": ".py",
   "mimetype": "text/x-python",
   "name": "python",
   "nbconvert_exporter": "python",
   "pygments_lexer": "ipython3",
   "version": "3.8.5"
  }
 },
 "nbformat": 4,
 "nbformat_minor": 4
}
